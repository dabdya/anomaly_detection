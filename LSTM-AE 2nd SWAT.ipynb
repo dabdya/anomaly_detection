{
 "cells": [
  {
   "cell_type": "code",
   "execution_count": 1,
   "id": "cbe2e728",
   "metadata": {},
   "outputs": [],
   "source": [
    "import matplotlib.pyplot as plt\n",
    "import pandas as pd\n",
    "import numpy as np\n",
    "\n",
    "from typing import Dict\n",
    "\n",
    "import warnings\n",
    "warnings.filterwarnings(\"ignore\")"
   ]
  },
  {
   "cell_type": "code",
   "execution_count": 2,
   "id": "d6b60065",
   "metadata": {},
   "outputs": [],
   "source": [
    "seed_value = 42\n",
    "\n",
    "import os\n",
    "os.environ['PYTHONHASHSEED'] = str(seed_value)\n",
    "\n",
    "import random\n",
    "random.seed(seed_value)\n",
    "\n",
    "import numpy as np\n",
    "np.random.seed(seed_value)\n",
    "\n",
    "import tensorflow as tf\n",
    "tf.random.set_seed(seed_value)"
   ]
  },
  {
   "cell_type": "code",
   "execution_count": 25,
   "id": "96ffde0c",
   "metadata": {},
   "outputs": [
    {
     "data": {
      "text/html": [
       "<div>\n",
       "<style scoped>\n",
       "    .dataframe tbody tr th:only-of-type {\n",
       "        vertical-align: middle;\n",
       "    }\n",
       "\n",
       "    .dataframe tbody tr th {\n",
       "        vertical-align: top;\n",
       "    }\n",
       "\n",
       "    .dataframe thead th {\n",
       "        text-align: right;\n",
       "    }\n",
       "</style>\n",
       "<table border=\"1\" class=\"dataframe\">\n",
       "  <thead>\n",
       "    <tr style=\"text-align: right;\">\n",
       "      <th></th>\n",
       "      <th>Timestamp</th>\n",
       "      <th>FIT101</th>\n",
       "      <th>LIT101</th>\n",
       "      <th>MV101</th>\n",
       "      <th>P101</th>\n",
       "      <th>P102</th>\n",
       "      <th>AIT201</th>\n",
       "      <th>AIT202</th>\n",
       "      <th>AIT203</th>\n",
       "      <th>FIT201</th>\n",
       "      <th>...</th>\n",
       "      <th>P501</th>\n",
       "      <th>P502</th>\n",
       "      <th>PIT501</th>\n",
       "      <th>PIT502</th>\n",
       "      <th>PIT503</th>\n",
       "      <th>FIT601</th>\n",
       "      <th>P601</th>\n",
       "      <th>P602</th>\n",
       "      <th>P603</th>\n",
       "      <th>Normal/Attack</th>\n",
       "    </tr>\n",
       "  </thead>\n",
       "  <tbody>\n",
       "    <tr>\n",
       "      <th>0</th>\n",
       "      <td>28/12/2015 7:50:00 AM</td>\n",
       "      <td>2.462287</td>\n",
       "      <td>541.3740</td>\n",
       "      <td>2</td>\n",
       "      <td>1</td>\n",
       "      <td>1</td>\n",
       "      <td>260.7344</td>\n",
       "      <td>8.409895</td>\n",
       "      <td>324.8398</td>\n",
       "      <td>0.000513</td>\n",
       "      <td>...</td>\n",
       "      <td>2</td>\n",
       "      <td>1</td>\n",
       "      <td>251.4580</td>\n",
       "      <td>1.297536</td>\n",
       "      <td>190.1436</td>\n",
       "      <td>0.000064</td>\n",
       "      <td>1</td>\n",
       "      <td>1</td>\n",
       "      <td>1</td>\n",
       "      <td>Normal</td>\n",
       "    </tr>\n",
       "    <tr>\n",
       "      <th>1</th>\n",
       "      <td>28/12/2015 7:50:01 AM</td>\n",
       "      <td>2.441469</td>\n",
       "      <td>541.4918</td>\n",
       "      <td>2</td>\n",
       "      <td>1</td>\n",
       "      <td>1</td>\n",
       "      <td>260.7344</td>\n",
       "      <td>8.412138</td>\n",
       "      <td>324.3015</td>\n",
       "      <td>0.000256</td>\n",
       "      <td>...</td>\n",
       "      <td>2</td>\n",
       "      <td>1</td>\n",
       "      <td>251.4580</td>\n",
       "      <td>1.297536</td>\n",
       "      <td>190.1436</td>\n",
       "      <td>0.000064</td>\n",
       "      <td>1</td>\n",
       "      <td>1</td>\n",
       "      <td>1</td>\n",
       "      <td>Normal</td>\n",
       "    </tr>\n",
       "    <tr>\n",
       "      <th>2</th>\n",
       "      <td>28/12/2015 7:50:02 AM</td>\n",
       "      <td>2.428338</td>\n",
       "      <td>541.2955</td>\n",
       "      <td>2</td>\n",
       "      <td>1</td>\n",
       "      <td>1</td>\n",
       "      <td>260.7344</td>\n",
       "      <td>8.414701</td>\n",
       "      <td>323.7888</td>\n",
       "      <td>0.000256</td>\n",
       "      <td>...</td>\n",
       "      <td>2</td>\n",
       "      <td>1</td>\n",
       "      <td>251.4580</td>\n",
       "      <td>1.297536</td>\n",
       "      <td>190.1436</td>\n",
       "      <td>0.000064</td>\n",
       "      <td>1</td>\n",
       "      <td>1</td>\n",
       "      <td>1</td>\n",
       "      <td>Normal</td>\n",
       "    </tr>\n",
       "    <tr>\n",
       "      <th>3</th>\n",
       "      <td>28/12/2015 7:50:03 AM</td>\n",
       "      <td>2.425776</td>\n",
       "      <td>542.5124</td>\n",
       "      <td>2</td>\n",
       "      <td>1</td>\n",
       "      <td>1</td>\n",
       "      <td>260.7344</td>\n",
       "      <td>8.420149</td>\n",
       "      <td>323.3530</td>\n",
       "      <td>0.000256</td>\n",
       "      <td>...</td>\n",
       "      <td>2</td>\n",
       "      <td>1</td>\n",
       "      <td>251.4580</td>\n",
       "      <td>1.441707</td>\n",
       "      <td>190.1436</td>\n",
       "      <td>0.000064</td>\n",
       "      <td>1</td>\n",
       "      <td>1</td>\n",
       "      <td>1</td>\n",
       "      <td>Normal</td>\n",
       "    </tr>\n",
       "    <tr>\n",
       "      <th>4</th>\n",
       "      <td>28/12/2015 7:50:04 AM</td>\n",
       "      <td>2.424174</td>\n",
       "      <td>542.7871</td>\n",
       "      <td>2</td>\n",
       "      <td>1</td>\n",
       "      <td>1</td>\n",
       "      <td>260.7344</td>\n",
       "      <td>8.423674</td>\n",
       "      <td>322.8916</td>\n",
       "      <td>0.000256</td>\n",
       "      <td>...</td>\n",
       "      <td>2</td>\n",
       "      <td>1</td>\n",
       "      <td>251.2817</td>\n",
       "      <td>1.441707</td>\n",
       "      <td>190.1436</td>\n",
       "      <td>0.000064</td>\n",
       "      <td>1</td>\n",
       "      <td>1</td>\n",
       "      <td>1</td>\n",
       "      <td>Normal</td>\n",
       "    </tr>\n",
       "  </tbody>\n",
       "</table>\n",
       "<p>5 rows × 53 columns</p>\n",
       "</div>"
      ],
      "text/plain": [
       "                Timestamp    FIT101    LIT101  MV101  P101  P102    AIT201  \\\n",
       "0   28/12/2015 7:50:00 AM  2.462287  541.3740      2     1     1  260.7344   \n",
       "1   28/12/2015 7:50:01 AM  2.441469  541.4918      2     1     1  260.7344   \n",
       "2   28/12/2015 7:50:02 AM  2.428338  541.2955      2     1     1  260.7344   \n",
       "3   28/12/2015 7:50:03 AM  2.425776  542.5124      2     1     1  260.7344   \n",
       "4   28/12/2015 7:50:04 AM  2.424174  542.7871      2     1     1  260.7344   \n",
       "\n",
       "     AIT202    AIT203    FIT201  ...  P501  P502    PIT501    PIT502  \\\n",
       "0  8.409895  324.8398  0.000513  ...     2     1  251.4580  1.297536   \n",
       "1  8.412138  324.3015  0.000256  ...     2     1  251.4580  1.297536   \n",
       "2  8.414701  323.7888  0.000256  ...     2     1  251.4580  1.297536   \n",
       "3  8.420149  323.3530  0.000256  ...     2     1  251.4580  1.441707   \n",
       "4  8.423674  322.8916  0.000256  ...     2     1  251.2817  1.441707   \n",
       "\n",
       "     PIT503    FIT601  P601  P602  P603  Normal/Attack  \n",
       "0  190.1436  0.000064     1     1     1         Normal  \n",
       "1  190.1436  0.000064     1     1     1         Normal  \n",
       "2  190.1436  0.000064     1     1     1         Normal  \n",
       "3  190.1436  0.000064     1     1     1         Normal  \n",
       "4  190.1436  0.000064     1     1     1         Normal  \n",
       "\n",
       "[5 rows x 53 columns]"
      ]
     },
     "execution_count": 25,
     "metadata": {},
     "output_type": "execute_result"
    }
   ],
   "source": [
    "df = pd.read_excel(\"./data/SWAT.xlsx\")\n",
    "df.head()"
   ]
  },
  {
   "cell_type": "code",
   "execution_count": 26,
   "id": "87317792",
   "metadata": {},
   "outputs": [],
   "source": [
    "df['Normal/Attack'].replace({'Normal':0, 'Attack':1}, inplace=True)\n",
    "df[\"anomaly\"] = df[\"Normal/Attack\"]\n",
    "\n",
    "anomaly = df.anomaly\n",
    "df.drop([\"Normal/Attack\"], axis=1, inplace=True)"
   ]
  },
  {
   "cell_type": "code",
   "execution_count": 27,
   "id": "62f0185b",
   "metadata": {},
   "outputs": [],
   "source": [
    "important_features = [\n",
    "    'LIT101', 'MV301', 'MV302', ' MV303', 'MV304', 'P302', 'AIT401', 'AIT504', 'FIT504', 'PIT502', 'P602', 'anomaly']"
   ]
  },
  {
   "cell_type": "code",
   "execution_count": 28,
   "id": "54358dd3",
   "metadata": {},
   "outputs": [
    {
     "data": {
      "text/html": [
       "<div>\n",
       "<style scoped>\n",
       "    .dataframe tbody tr th:only-of-type {\n",
       "        vertical-align: middle;\n",
       "    }\n",
       "\n",
       "    .dataframe tbody tr th {\n",
       "        vertical-align: top;\n",
       "    }\n",
       "\n",
       "    .dataframe thead th {\n",
       "        text-align: right;\n",
       "    }\n",
       "</style>\n",
       "<table border=\"1\" class=\"dataframe\">\n",
       "  <thead>\n",
       "    <tr style=\"text-align: right;\">\n",
       "      <th></th>\n",
       "      <th>LIT101</th>\n",
       "      <th>MV301</th>\n",
       "      <th>MV302</th>\n",
       "      <th>MV303</th>\n",
       "      <th>MV304</th>\n",
       "      <th>P302</th>\n",
       "      <th>AIT401</th>\n",
       "      <th>AIT504</th>\n",
       "      <th>FIT504</th>\n",
       "      <th>PIT502</th>\n",
       "      <th>P602</th>\n",
       "      <th>anomaly</th>\n",
       "    </tr>\n",
       "  </thead>\n",
       "  <tbody>\n",
       "    <tr>\n",
       "      <th>0</th>\n",
       "      <td>541.3740</td>\n",
       "      <td>1</td>\n",
       "      <td>1</td>\n",
       "      <td>1</td>\n",
       "      <td>1</td>\n",
       "      <td>1</td>\n",
       "      <td>148.808</td>\n",
       "      <td>12.03538</td>\n",
       "      <td>0.306761</td>\n",
       "      <td>1.297536</td>\n",
       "      <td>1</td>\n",
       "      <td>0</td>\n",
       "    </tr>\n",
       "    <tr>\n",
       "      <th>1</th>\n",
       "      <td>541.4918</td>\n",
       "      <td>1</td>\n",
       "      <td>1</td>\n",
       "      <td>1</td>\n",
       "      <td>1</td>\n",
       "      <td>1</td>\n",
       "      <td>148.808</td>\n",
       "      <td>12.03538</td>\n",
       "      <td>0.306761</td>\n",
       "      <td>1.297536</td>\n",
       "      <td>1</td>\n",
       "      <td>0</td>\n",
       "    </tr>\n",
       "    <tr>\n",
       "      <th>2</th>\n",
       "      <td>541.2955</td>\n",
       "      <td>1</td>\n",
       "      <td>1</td>\n",
       "      <td>1</td>\n",
       "      <td>1</td>\n",
       "      <td>1</td>\n",
       "      <td>148.808</td>\n",
       "      <td>12.03538</td>\n",
       "      <td>0.306761</td>\n",
       "      <td>1.297536</td>\n",
       "      <td>1</td>\n",
       "      <td>0</td>\n",
       "    </tr>\n",
       "    <tr>\n",
       "      <th>3</th>\n",
       "      <td>542.5124</td>\n",
       "      <td>1</td>\n",
       "      <td>1</td>\n",
       "      <td>1</td>\n",
       "      <td>1</td>\n",
       "      <td>1</td>\n",
       "      <td>148.808</td>\n",
       "      <td>12.03538</td>\n",
       "      <td>0.306761</td>\n",
       "      <td>1.441707</td>\n",
       "      <td>1</td>\n",
       "      <td>0</td>\n",
       "    </tr>\n",
       "    <tr>\n",
       "      <th>4</th>\n",
       "      <td>542.7871</td>\n",
       "      <td>1</td>\n",
       "      <td>1</td>\n",
       "      <td>1</td>\n",
       "      <td>1</td>\n",
       "      <td>1</td>\n",
       "      <td>148.808</td>\n",
       "      <td>12.03538</td>\n",
       "      <td>0.306761</td>\n",
       "      <td>1.441707</td>\n",
       "      <td>1</td>\n",
       "      <td>0</td>\n",
       "    </tr>\n",
       "  </tbody>\n",
       "</table>\n",
       "</div>"
      ],
      "text/plain": [
       "     LIT101  MV301  MV302   MV303  MV304  P302   AIT401    AIT504    FIT504  \\\n",
       "0  541.3740      1      1       1      1     1  148.808  12.03538  0.306761   \n",
       "1  541.4918      1      1       1      1     1  148.808  12.03538  0.306761   \n",
       "2  541.2955      1      1       1      1     1  148.808  12.03538  0.306761   \n",
       "3  542.5124      1      1       1      1     1  148.808  12.03538  0.306761   \n",
       "4  542.7871      1      1       1      1     1  148.808  12.03538  0.306761   \n",
       "\n",
       "     PIT502  P602  anomaly  \n",
       "0  1.297536     1        0  \n",
       "1  1.297536     1        0  \n",
       "2  1.297536     1        0  \n",
       "3  1.441707     1        0  \n",
       "4  1.441707     1        0  "
      ]
     },
     "execution_count": 28,
     "metadata": {},
     "output_type": "execute_result"
    }
   ],
   "source": [
    "df = df[important_features]\n",
    "df.head()"
   ]
  },
  {
   "cell_type": "code",
   "execution_count": 8,
   "id": "61ecdceb",
   "metadata": {},
   "outputs": [],
   "source": [
    "first_anomaly_index = anomaly[anomaly == 1].index[0]\n",
    "train_size = int(first_anomaly_index * 0.8)"
   ]
  },
  {
   "cell_type": "markdown",
   "id": "77086959",
   "metadata": {},
   "source": [
    "### Autoencoder prediction"
   ]
  },
  {
   "cell_type": "code",
   "execution_count": 15,
   "id": "40afe34c",
   "metadata": {},
   "outputs": [],
   "source": [
    "from utils.data import create_sequences\n",
    "from sklearn.preprocessing import StandardScaler"
   ]
  },
  {
   "cell_type": "code",
   "execution_count": 33,
   "id": "5134b6d9",
   "metadata": {},
   "outputs": [],
   "source": [
    "from utils.pipeline import Pipeline, Predictor\n",
    "from models.lstm_ae import LSTM_AE\n",
    "from tensorflow import keras\n",
    "\n",
    "optimizer = keras.optimizers.Adam(learning_rate=0.0001)\n",
    "class Config:\n",
    "    TIME_STEPS = 50\n",
    "    epochs = 3\n",
    "    batch_size = 10 \n",
    "    Q = 0.99\n",
    "    \n",
    "conf = Config\n",
    "conf.train_size = train_size\n",
    "\n",
    "class LSTM_AE_2ndPredictor:\n",
    "    def fit(self, df_train):\n",
    "        ss = StandardScaler()\n",
    "        self.ss = ss\n",
    "        x_train = df_train[:train_size].drop([\"anomaly\"], axis=1)\n",
    "        x_train = np.array(ss.fit_transform(x_train))\n",
    "        x_train = create_sequences(x_train, conf.TIME_STEPS)\n",
    "\n",
    "        self.model = LSTM_AE(optimizer=optimizer, loss='mae')\n",
    "        self.model.fit(x_train, conf.epochs, conf.batch_size, conf.TIME_STEPS)\n",
    "        \n",
    "    def predict(self, dfs_test: Dict[str, pd.DataFrame]) -> Dict[str, pd.Series]:\n",
    "        predictions = {}\n",
    "        for file_name, df in dfs_test.items():\n",
    "            y_test = df.anomaly\n",
    "            df = df[important_features]\n",
    "            df.drop([\"anomaly\"], axis=1, inplace=True)\n",
    "            x_test = np.array(self.ss.transform(df))\n",
    "            x_test = create_sequences(x_test, conf.TIME_STEPS)\n",
    "            r = pd.Series(np.sum(np.mean(np.abs(self.model.predict(x_test) - x_test), axis=1), axis=1)) \n",
    "            \n",
    "            smoothed = r.rolling(window = 10).mean().fillna(r.iloc[0])\n",
    "            a = smoothed.diff(10).abs()\n",
    "            \n",
    "            IQR = a.quantile(0.75) - a.quantile(0.75)\n",
    "            UCL = a.quantile(0.75) + 1.5 * IQR\n",
    "            \n",
    "            s = a > UCL\n",
    "            w = 10\n",
    "            is_anomaly = s.rolling(window = w).mean().fillna(s.iloc[0])\n",
    "            anomalous_data_indices = pd.Series(is_anomaly.index[is_anomaly > 0]) #+ conf.TIME_STEPS - 1\n",
    "\n",
    "            prediction = pd.Series(data=0, index=df.index)\n",
    "            prediction.iloc[anomalous_data_indices] = 1\n",
    "            predictions[file_name] = prediction\n",
    "            \n",
    "        return predictions"
   ]
  },
  {
   "cell_type": "code",
   "execution_count": 43,
   "id": "355fafb4",
   "metadata": {},
   "outputs": [
    {
     "name": "stdout",
     "output_type": "stream",
     "text": [
      "Epoch 1/3\n",
      "1005/1005 [==============================] - 239s 228ms/step - loss: 0.3111\n",
      "Epoch 2/3\n",
      "1005/1005 [==============================] - 252s 251ms/step - loss: 0.2050\n",
      "Epoch 3/3\n",
      "1005/1005 [==============================] - 202s 201ms/step - loss: 0.1802\n",
      "CPU times: user 22min 19s, sys: 1min 28s, total: 23min 48s\n",
      "Wall time: 12min 33s\n"
     ]
    }
   ],
   "source": [
    "%%time\n",
    "predictor = LSTM_AE_2ndPredictor()\n",
    "predictor.fit(df[:train_size])"
   ]
  },
  {
   "cell_type": "code",
   "execution_count": 44,
   "id": "9b67284f",
   "metadata": {},
   "outputs": [
    {
     "name": "stdout",
     "output_type": "stream",
     "text": [
      "CPU times: user 1min 1s, sys: 4.77 s, total: 1min 6s\n",
      "Wall time: 38.6 s\n"
     ]
    }
   ],
   "source": [
    "%%time\n",
    "df_by_names = {\"swat\": df[train_size:]}\n",
    "y_test_by_names = {name: df.anomaly for name, df in df_by_names.items()}\n",
    "predictions_by_names = predictor.predict(df_by_names)"
   ]
  },
  {
   "cell_type": "code",
   "execution_count": 45,
   "id": "77d08925",
   "metadata": {},
   "outputs": [
    {
     "data": {
      "image/png": "[encoded data removed]",
      "text/plain": [
       "<Figure size 432x288 with 1 Axes>"
      ]
     },
     "metadata": {
      "needs_background": "light"
     },
     "output_type": "display_data"
    }
   ],
   "source": [
    "from utils.metrics import f1_score, far, mar\n",
    "metrics= {}\n",
    "predictions = []\n",
    "\n",
    "draw = 1\n",
    "\n",
    "all_prediction = {\"swat\": []}\n",
    "all_test = {\"swat\": []}\n",
    "\n",
    "for file_name, prediction in predictions_by_names.items():\n",
    "    y_test = y_test_by_names[file_name]\n",
    "    f1 = f1_score(y_test, prediction)\n",
    "    far_score = far(y_test, prediction)\n",
    "    mar_score = mar(y_test, prediction)\n",
    "    all_prediction[\"swat\"].append(prediction)\n",
    "    all_test[\"swat\"].append(prediction)\n",
    "            \n",
    "    metrics[file_name] = (f1, far_score, mar_score)\n",
    "    \n",
    "    if draw:\n",
    "        title = file_name + \" f1 = {:3.2f} far = {:3.2f} mar = {:3.2f}\".format(f1, far_score, mar_score)\n",
    "        plt.title(title)\n",
    "        plt.plot(y_test)    \n",
    "        plt.plot(prediction)\n",
    "        plt.legend([\"y_test\", \"predicted\"])\n",
    "        plt.show()"
   ]
  },
  {
   "cell_type": "code",
   "execution_count": 46,
   "id": "6b6af5af",
   "metadata": {},
   "outputs": [
    {
     "data": {
      "text/markdown": [
       "metric | swat\n",
       "--- | ---\n",
       "F1 |0.36\n",
       "FAR |0.23\n",
       "MAR |0.52"
      ],
      "text/plain": [
       "<IPython.core.display.Markdown object>"
      ]
     },
     "metadata": {},
     "output_type": "display_data"
    }
   ],
   "source": [
    "from utils.data import show_score_table\n",
    "\n",
    "show_score_table(metrics)"
   ]
  },
  {
   "cell_type": "markdown",
   "id": "32f7a2a3",
   "metadata": {},
   "source": [
    "### SKAB"
   ]
  },
  {
   "cell_type": "code",
   "execution_count": 47,
   "id": "5e96cbe6",
   "metadata": {},
   "outputs": [],
   "source": [
    "# libraries importing\n",
    "import numpy as np\n",
    "from tensorflow import keras\n",
    "from tensorflow.keras import layers\n",
    "from tensorflow.keras.callbacks import EarlyStopping, ModelCheckpoint, ReduceLROnPlateau\n",
    "from sklearn.metrics import mean_absolute_error, mean_squared_error\n",
    "from sklearn.preprocessing import StandardScaler"
   ]
  },
  {
   "cell_type": "code",
   "execution_count": 50,
   "id": "e81c5125",
   "metadata": {},
   "outputs": [],
   "source": [
    "def arch(data):\n",
    "    EPOCHS = 3\n",
    "    BATCH_SIZE = 16\n",
    "    VAL_SPLIT = 0.1\n",
    "    \n",
    "    # model defining\n",
    "    # define encoder\n",
    "    inputs = keras.Input(shape=(data.shape[1], data.shape[2]))\n",
    "    encoded = layers.LSTM(100, activation='relu')(inputs)\n",
    "\n",
    "    # define reconstruct decoder\n",
    "    decoded = layers.RepeatVector(data.shape[1])(encoded)\n",
    "    decoded = layers.LSTM(100, activation='relu', return_sequences=True)(decoded)\n",
    "    decoded = layers.TimeDistributed(layers.Dense(data.shape[2]))(decoded)\n",
    "\n",
    "    # tie it together\n",
    "    model = keras.Model(inputs, decoded)\n",
    "    encoder = keras.Model(inputs, encoded)\n",
    "\n",
    "    model.compile(optimizer='adam', loss='mae', metrics=[\"mse\"])\n",
    "    \n",
    "    # callbacks defining\n",
    "    early_stopping = EarlyStopping(patience=5, verbose=0)\n",
    "#     reduce_lr = ReduceLROnPlateau(factor=0.1, patience=5, min_lr=0.0001, verbose=0)\n",
    "    \n",
    "    # model fitting\n",
    "    history = model.fit(data, data,\n",
    "                        validation_split=VAL_SPLIT,\n",
    "                        epochs=EPOCHS,\n",
    "                        batch_size=BATCH_SIZE,\n",
    "                        verbose=0,\n",
    "                        shuffle=False,\n",
    "                        callbacks=[early_stopping]#, reduce_lr]\n",
    "                        )\n",
    "    return history, model"
   ]
  },
  {
   "cell_type": "code",
   "execution_count": 54,
   "id": "f4ea2f1d",
   "metadata": {},
   "outputs": [],
   "source": [
    "from utils.pipeline import Pipeline, Predictor\n",
    "from tensorflow import keras\n",
    "\n",
    "optimizer = keras.optimizers.Adam(learning_rate=0.0001)\n",
    "class Config:\n",
    "    TIME_STEPS = 50\n",
    "    epochs = 3\n",
    "    batch_size = 10 \n",
    "    Q = 0.99\n",
    "    \n",
    "conf = Config\n",
    "\n",
    "class LSTM_AE_SKAB_Predictor:\n",
    "    def fit(self, df_train):\n",
    "        ss = StandardScaler()\n",
    "        self.ss = ss\n",
    "        x_train = df_train[:train_size].drop([\"anomaly\"], axis=1)\n",
    "        x_train = np.array(ss.fit_transform(x_train))\n",
    "        x_train = create_sequences(x_train, conf.TIME_STEPS)\n",
    "        \n",
    "        _, model = arch(x_train)# ~ fit\n",
    "        self.model = model\n",
    "        \n",
    "        healthy_r = pd.Series(np.sum(np.mean(np.abs(self.model.predict(x_train) - x_train), axis=1), axis=1)) \n",
    "        self.UCL = healthy_r.quantile(conf.Q)\n",
    "            \n",
    "    def predict(self, dfs_test: Dict[str, pd.DataFrame]) -> Dict[str, pd.Series]:\n",
    "        predictions = {}\n",
    "        for file_name, df in dfs_test.items():\n",
    "            y_test = df.anomaly\n",
    "            df = df[important_features]\n",
    "            df.drop([\"anomaly\"], axis=1, inplace=True)\n",
    "            x_test = np.array(self.ss.transform(df))\n",
    "            x_test = create_sequences(x_test, conf.TIME_STEPS)\n",
    "            r = pd.Series(np.sum(np.mean(np.abs(self.model.predict(x_test) - x_test), axis=1), axis=1)) \n",
    "            \n",
    "            smoothed = r.rolling(window = 10).mean().fillna(r.iloc[0])\n",
    "            a = smoothed.diff(10).abs()\n",
    "            \n",
    "            IQR = a.quantile(0.75) - a.quantile(0.75)\n",
    "            UCL = a.quantile(0.75) + 1.5 * IQR\n",
    "            \n",
    "            s = a > UCL\n",
    "            w = 10\n",
    "            is_anomaly = s.rolling(window = w).mean().fillna(s.iloc[0])\n",
    "            anomalous_data_indices = pd.Series(is_anomaly.index[is_anomaly > 0]) #+ conf.TIME_STEPS - 1\n",
    "\n",
    "            prediction = pd.Series(data=0, index=df.index)\n",
    "            prediction.iloc[anomalous_data_indices] = 1\n",
    "            predictions[file_name] = prediction\n",
    "            \n",
    "        return predictions"
   ]
  },
  {
   "cell_type": "code",
   "execution_count": 55,
   "id": "4869f5f6",
   "metadata": {},
   "outputs": [
    {
     "name": "stdout",
     "output_type": "stream",
     "text": [
      "CPU times: user 7min 53s, sys: 34.5 s, total: 8min 27s\n",
      "Wall time: 4min 4s\n"
     ]
    }
   ],
   "source": [
    "%%time\n",
    "skab_predictor = LSTM_AE_SKAB_Predictor()\n",
    "skab_predictor.fit(df[:train_size])"
   ]
  },
  {
   "cell_type": "code",
   "execution_count": 56,
   "id": "0ae186f3",
   "metadata": {},
   "outputs": [
    {
     "name": "stdout",
     "output_type": "stream",
     "text": [
      "CPU times: user 29.4 s, sys: 2.83 s, total: 32.3 s\n",
      "Wall time: 16.5 s\n"
     ]
    }
   ],
   "source": [
    "%%time\n",
    "predictions_by_names = skab_predictor.predict(df_by_names)"
   ]
  },
  {
   "cell_type": "code",
   "execution_count": 57,
   "id": "67123a9f",
   "metadata": {},
   "outputs": [
    {
     "data": {
      "image/png": "[encoded data removed]",
      "text/plain": [
       "<Figure size 432x288 with 1 Axes>"
      ]
     },
     "metadata": {
      "needs_background": "light"
     },
     "output_type": "display_data"
    }
   ],
   "source": [
    "from utils.metrics import f1_score, far, mar\n",
    "metrics= {}\n",
    "predictions = []\n",
    "\n",
    "draw = 1\n",
    "\n",
    "all_prediction = {\"swat\": []}\n",
    "all_test = {\"swat\": []}\n",
    "\n",
    "for file_name, prediction in predictions_by_names.items():\n",
    "    y_test = y_test_by_names[file_name]\n",
    "    f1 = f1_score(y_test, prediction)\n",
    "    far_score = far(y_test, prediction)\n",
    "    mar_score = mar(y_test, prediction)\n",
    "    all_prediction[\"swat\"].append(prediction)\n",
    "    all_test[\"swat\"].append(prediction)\n",
    "            \n",
    "    metrics[file_name] = (f1, far_score, mar_score)\n",
    "    \n",
    "    if draw:\n",
    "        title = file_name + \" f1 = {:3.2f} far = {:3.2f} mar = {:3.2f}\".format(f1, far_score, mar_score)\n",
    "        plt.title(title)\n",
    "        plt.plot(y_test)    \n",
    "        plt.plot(prediction)\n",
    "        plt.legend([\"y_test\", \"predicted\"])\n",
    "        plt.show()"
   ]
  },
  {
   "cell_type": "code",
   "execution_count": 58,
   "id": "12c562fd",
   "metadata": {},
   "outputs": [
    {
     "data": {
      "text/markdown": [
       "metric | swat\n",
       "--- | ---\n",
       "F1 |0.4\n",
       "FAR |0.26\n",
       "MAR |0.42"
      ],
      "text/plain": [
       "<IPython.core.display.Markdown object>"
      ]
     },
     "metadata": {},
     "output_type": "display_data"
    }
   ],
   "source": [
    "from utils.data import show_score_table\n",
    "\n",
    "show_score_table(metrics)"
   ]
  }
 ],
 "metadata": {
  "kernelspec": {
   "display_name": "Python 3 (ipykernel)",
   "language": "python",
   "name": "python3"
  },
  "language_info": {
   "codemirror_mode": {
    "name": "ipython",
    "version": 3
   },
   "file_extension": ".py",
   "mimetype": "text/x-python",
   "name": "python",
   "nbconvert_exporter": "python",
   "pygments_lexer": "ipython3",
   "version": "3.8.10"
  }
 },
 "nbformat": 4,
 "nbformat_minor": 5
}
