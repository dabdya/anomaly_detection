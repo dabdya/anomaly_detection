{
 "cells": [
  {
   "cell_type": "markdown",
   "id": "de1566c5",
   "metadata": {},
   "source": [
    "## Long short-term memory"
   ]
  },
  {
   "cell_type": "markdown",
   "id": "28637f1e",
   "metadata": {},
   "source": [
    "*Эпоха* - это **весь** датасет обученный один раз: forwarding и back propagation. Количество эпох зависит от данных, т.е. нельзя в точности сказать что для такой-то задачи нужно вот столько-то эпох. Слишком много эпох вызовет переобучение, слишком мало может вызвать недообучение.\n",
    "\n",
    "*Батч* - это часть датасета, т.е. весь датасет можно разбить на батчи какого-то размера. Количество батчей равняется количеству итераций в эпохе, и если посмотреть с другой стороны, то количество итерации - это количество батчей для обучения одной эпохи."
   ]
  },
  {
   "cell_type": "code",
   "execution_count": 78,
   "id": "b831c17c",
   "metadata": {},
   "outputs": [],
   "source": [
    "import matplotlib.pyplot as plt\n",
    "import pandas as pd\n",
    "import numpy as np\n",
    "\n",
    "import warnings \n",
    "warnings.filterwarnings('ignore')\n",
    "\n",
    "from sklearn.preprocessing import StandardScaler\n",
    "from metrics import mar, far, f1_score"
   ]
  },
  {
   "cell_type": "code",
   "execution_count": 79,
   "id": "d2ded7df",
   "metadata": {},
   "outputs": [],
   "source": [
    "from keras.models import Sequential\n",
    "from keras.layers import TimeDistributed, Dense, LSTM, RepeatVector"
   ]
  },
  {
   "cell_type": "markdown",
   "id": "ff12b665",
   "metadata": {},
   "source": [
    "### Process data"
   ]
  },
  {
   "cell_type": "code",
   "execution_count": 80,
   "id": "56cc280f",
   "metadata": {},
   "outputs": [
    {
     "data": {
      "text/html": [
       "<div>\n",
       "<style scoped>\n",
       "    .dataframe tbody tr th:only-of-type {\n",
       "        vertical-align: middle;\n",
       "    }\n",
       "\n",
       "    .dataframe tbody tr th {\n",
       "        vertical-align: top;\n",
       "    }\n",
       "\n",
       "    .dataframe thead th {\n",
       "        text-align: right;\n",
       "    }\n",
       "</style>\n",
       "<table border=\"1\" class=\"dataframe\">\n",
       "  <thead>\n",
       "    <tr style=\"text-align: right;\">\n",
       "      <th></th>\n",
       "      <th>Accelerometer1RMS</th>\n",
       "      <th>Accelerometer2RMS</th>\n",
       "      <th>Current</th>\n",
       "      <th>Pressure</th>\n",
       "      <th>Temperature</th>\n",
       "      <th>Thermocouple</th>\n",
       "      <th>Voltage</th>\n",
       "      <th>Volume Flow RateRMS</th>\n",
       "      <th>anomaly</th>\n",
       "      <th>changepoint</th>\n",
       "    </tr>\n",
       "    <tr>\n",
       "      <th>datetime</th>\n",
       "      <th></th>\n",
       "      <th></th>\n",
       "      <th></th>\n",
       "      <th></th>\n",
       "      <th></th>\n",
       "      <th></th>\n",
       "      <th></th>\n",
       "      <th></th>\n",
       "      <th></th>\n",
       "      <th></th>\n",
       "    </tr>\n",
       "  </thead>\n",
       "  <tbody>\n",
       "    <tr>\n",
       "      <th>2020-03-09 10:14:33</th>\n",
       "      <td>0.026588</td>\n",
       "      <td>0.040111</td>\n",
       "      <td>1.33020</td>\n",
       "      <td>0.054711</td>\n",
       "      <td>79.3366</td>\n",
       "      <td>26.0199</td>\n",
       "      <td>233.062</td>\n",
       "      <td>32.0</td>\n",
       "      <td>0.0</td>\n",
       "      <td>0.0</td>\n",
       "    </tr>\n",
       "    <tr>\n",
       "      <th>2020-03-09 10:14:34</th>\n",
       "      <td>0.026170</td>\n",
       "      <td>0.040453</td>\n",
       "      <td>1.35399</td>\n",
       "      <td>0.382638</td>\n",
       "      <td>79.5158</td>\n",
       "      <td>26.0258</td>\n",
       "      <td>236.040</td>\n",
       "      <td>32.0</td>\n",
       "      <td>0.0</td>\n",
       "      <td>0.0</td>\n",
       "    </tr>\n",
       "    <tr>\n",
       "      <th>2020-03-09 10:14:35</th>\n",
       "      <td>0.026199</td>\n",
       "      <td>0.039419</td>\n",
       "      <td>1.54006</td>\n",
       "      <td>0.710565</td>\n",
       "      <td>79.3756</td>\n",
       "      <td>26.0265</td>\n",
       "      <td>251.380</td>\n",
       "      <td>32.0</td>\n",
       "      <td>0.0</td>\n",
       "      <td>0.0</td>\n",
       "    </tr>\n",
       "    <tr>\n",
       "      <th>2020-03-09 10:14:36</th>\n",
       "      <td>0.026027</td>\n",
       "      <td>0.039641</td>\n",
       "      <td>1.33458</td>\n",
       "      <td>0.382638</td>\n",
       "      <td>79.6097</td>\n",
       "      <td>26.0393</td>\n",
       "      <td>234.392</td>\n",
       "      <td>32.0</td>\n",
       "      <td>0.0</td>\n",
       "      <td>0.0</td>\n",
       "    </tr>\n",
       "    <tr>\n",
       "      <th>2020-03-09 10:14:37</th>\n",
       "      <td>0.026290</td>\n",
       "      <td>0.040273</td>\n",
       "      <td>1.07851</td>\n",
       "      <td>-0.273216</td>\n",
       "      <td>79.6109</td>\n",
       "      <td>26.0420</td>\n",
       "      <td>225.342</td>\n",
       "      <td>32.0</td>\n",
       "      <td>0.0</td>\n",
       "      <td>0.0</td>\n",
       "    </tr>\n",
       "  </tbody>\n",
       "</table>\n",
       "</div>"
      ],
      "text/plain": [
       "                     Accelerometer1RMS  Accelerometer2RMS  Current  Pressure  \\\n",
       "datetime                                                                       \n",
       "2020-03-09 10:14:33           0.026588           0.040111  1.33020  0.054711   \n",
       "2020-03-09 10:14:34           0.026170           0.040453  1.35399  0.382638   \n",
       "2020-03-09 10:14:35           0.026199           0.039419  1.54006  0.710565   \n",
       "2020-03-09 10:14:36           0.026027           0.039641  1.33458  0.382638   \n",
       "2020-03-09 10:14:37           0.026290           0.040273  1.07851 -0.273216   \n",
       "\n",
       "                     Temperature  Thermocouple  Voltage  Volume Flow RateRMS  \\\n",
       "datetime                                                                       \n",
       "2020-03-09 10:14:33      79.3366       26.0199  233.062                 32.0   \n",
       "2020-03-09 10:14:34      79.5158       26.0258  236.040                 32.0   \n",
       "2020-03-09 10:14:35      79.3756       26.0265  251.380                 32.0   \n",
       "2020-03-09 10:14:36      79.6097       26.0393  234.392                 32.0   \n",
       "2020-03-09 10:14:37      79.6109       26.0420  225.342                 32.0   \n",
       "\n",
       "                     anomaly  changepoint  \n",
       "datetime                                   \n",
       "2020-03-09 10:14:33      0.0          0.0  \n",
       "2020-03-09 10:14:34      0.0          0.0  \n",
       "2020-03-09 10:14:35      0.0          0.0  \n",
       "2020-03-09 10:14:36      0.0          0.0  \n",
       "2020-03-09 10:14:37      0.0          0.0  "
      ]
     },
     "execution_count": 80,
     "metadata": {},
     "output_type": "execute_result"
    }
   ],
   "source": [
    "df = pd.read_csv(\"./data/valve1/0.csv\", \n",
    "                 sep=\";\", parse_dates=True, index_col=\"datetime\")\n",
    "\n",
    "df.sort_index(inplace=True)\n",
    "train_size = 400\n",
    "df.head()\n"
   ]
  },
  {
   "cell_type": "code",
   "execution_count": 81,
   "id": "cff00bff",
   "metadata": {},
   "outputs": [],
   "source": [
    "\n",
    "SS = StandardScaler()\n",
    "x_train = np.array(SS.fit_transform(df[:train_size].drop(['anomaly','changepoint'], axis=1)))\n",
    "y = df.anomaly"
   ]
  },
  {
   "cell_type": "code",
   "execution_count": 82,
   "id": "9bf333a7",
   "metadata": {},
   "outputs": [
    {
     "name": "stdout",
     "output_type": "stream",
     "text": [
      "Training input shape:  (381, 20, 8)\n"
     ]
    }
   ],
   "source": [
    "TIME_STEPS = 20\n",
    "\n",
    "# Generated training sequences for use in the model.\n",
    "def create_sequences(values, time_steps=TIME_STEPS):\n",
    "    output = []\n",
    "    for i in range(len(values) - time_steps + 1):\n",
    "        output.append(values[i : (i + time_steps)])\n",
    "    return np.stack(output)\n",
    "\n",
    "x_train = create_sequences(x_train)\n",
    "print(\"Training input shape: \", x_train.shape)"
   ]
  },
  {
   "cell_type": "markdown",
   "id": "07bb1678",
   "metadata": {},
   "source": [
    "### Make model"
   ]
  },
  {
   "cell_type": "code",
   "execution_count": 83,
   "id": "3b31d565",
   "metadata": {},
   "outputs": [
    {
     "data": {
      "text/plain": [
       "8"
      ]
     },
     "execution_count": 83,
     "metadata": {},
     "output_type": "execute_result"
    }
   ],
   "source": [
    "n_features = x_train.shape[2]\n",
    "n_features"
   ]
  },
  {
   "cell_type": "code",
   "execution_count": 84,
   "id": "4044511d",
   "metadata": {},
   "outputs": [],
   "source": [
    "model = Sequential()\n",
    "\n",
    "model.add(LSTM(units=128, activation='relu', return_sequences=True, \n",
    "               input_shape=(x_train.shape[1], x_train.shape[2])))\n",
    "\n",
    "model.add(LSTM(units=64, activation='relu', return_sequences=False))\n",
    "# Encoding is done\n",
    "model.add(RepeatVector(TIME_STEPS))\n",
    "\n",
    "model.add(LSTM(units=64, activation='relu', return_sequences=True))\n",
    "model.add(LSTM(units=128, activation='relu', return_sequences=True))\n",
    "model.add(TimeDistributed(Dense(n_features)))\n",
    "\n",
    "model.compile(optimizer='adam', loss='mse')"
   ]
  },
  {
   "cell_type": "markdown",
   "id": "7d3f4653",
   "metadata": {},
   "source": [
    "### Fitting"
   ]
  },
  {
   "cell_type": "code",
   "execution_count": 85,
   "id": "6b207552",
   "metadata": {},
   "outputs": [],
   "source": [
    "import keras"
   ]
  },
  {
   "cell_type": "code",
   "execution_count": 86,
   "id": "5a3df413",
   "metadata": {},
   "outputs": [
    {
     "name": "stdout",
     "output_type": "stream",
     "text": [
      "77/77 [==============================] - 9s 45ms/step - loss: 0.9417\n"
     ]
    }
   ],
   "source": [
    "history = model.fit(x_train, x_train, epochs=1, batch_size=5)"
   ]
  },
  {
   "cell_type": "code",
   "execution_count": 87,
   "id": "5ed0480f",
   "metadata": {},
   "outputs": [],
   "source": [
    "Q = 0.99"
   ]
  },
  {
   "cell_type": "code",
   "execution_count": 88,
   "id": "ca499a60",
   "metadata": {},
   "outputs": [],
   "source": [
    "health_r = pd.Series(np.sum(np.mean(np.abs(model.predict(x_train) - x_train), axis=1), axis=1))\n",
    "UCL = health_r.quantile(Q)"
   ]
  },
  {
   "cell_type": "code",
   "execution_count": 89,
   "id": "41a9fbee",
   "metadata": {},
   "outputs": [
    {
     "data": {
      "text/plain": [
       "[<matplotlib.lines.Line2D at 0x1e18714c370>]"
      ]
     },
     "execution_count": 89,
     "metadata": {},
     "output_type": "execute_result"
    },
    {
     "data": {
      "image/png": "[encoded data removed]",
      "text/plain": [
       "<Figure size 432x288 with 1 Axes>"
      ]
     },
     "metadata": {
      "needs_background": "light"
     },
     "output_type": "display_data"
    }
   ],
   "source": [
    "plt.plot(health_r)"
   ]
  },
  {
   "cell_type": "markdown",
   "id": "c2c5c616",
   "metadata": {},
   "source": [
    "### Make predictions"
   ]
  },
  {
   "cell_type": "code",
   "execution_count": 90,
   "id": "af956351",
   "metadata": {},
   "outputs": [],
   "source": [
    "y_test = df[\"anomaly\"].astype(int)\n",
    "df.drop([\"anomaly\", \"changepoint\"], inplace=True, axis=1)\n",
    "\n",
    "x_test = np.array(SS.transform(df))"
   ]
  },
  {
   "cell_type": "code",
   "execution_count": 91,
   "id": "7cd8d115",
   "metadata": {},
   "outputs": [
    {
     "name": "stdout",
     "output_type": "stream",
     "text": [
      "Training input shape:  (1128, 20, 8)\n"
     ]
    }
   ],
   "source": [
    "x_test = create_sequences(x_test)\n",
    "print(\"Training input shape: \", x_test.shape)"
   ]
  },
  {
   "cell_type": "code",
   "execution_count": 92,
   "id": "a7f5b209",
   "metadata": {},
   "outputs": [],
   "source": [
    "r = pd.Series(np.sum(np.mean(np.abs(model.predict(x_test) - x_test), axis=1), axis=1))"
   ]
  },
  {
   "cell_type": "code",
   "execution_count": 93,
   "id": "4f107c85",
   "metadata": {},
   "outputs": [
    {
     "data": {
      "text/plain": [
       "[<matplotlib.lines.Line2D at 0x1e1871c8100>]"
      ]
     },
     "execution_count": 93,
     "metadata": {},
     "output_type": "execute_result"
    },
    {
     "data": {
      "image/png": "[encoded data removed]",
      "text/plain": [
       "<Figure size 432x288 with 1 Axes>"
      ]
     },
     "metadata": {
      "needs_background": "light"
     },
     "output_type": "display_data"
    }
   ],
   "source": [
    "plt.plot(r)"
   ]
  },
  {
   "cell_type": "code",
   "execution_count": 112,
   "id": "4a7dac97",
   "metadata": {},
   "outputs": [],
   "source": [
    "anomalous_data = r > (3/2 * UCL)\n",
    "anomalous_data_indices = [] \n",
    "# если окно расценено как аномалия, назначаем аномалией первое значение из окна\n",
    "for data_idx in range(TIME_STEPS - 1, len(x_test) - TIME_STEPS + 1):\n",
    "    if np.all(anomalous_data[data_idx - TIME_STEPS + 1 : data_idx]):\n",
    "        anomalous_data_indices.append(data_idx)\n",
    "#         anomalous_data_indices.append(data_idx-TIME_STEPS+1)"
   ]
  },
  {
   "cell_type": "code",
   "execution_count": 113,
   "id": "e0089220",
   "metadata": {},
   "outputs": [
    {
     "data": {
      "text/plain": [
       "20"
      ]
     },
     "execution_count": 113,
     "metadata": {},
     "output_type": "execute_result"
    }
   ],
   "source": [
    "TIME_STEPS"
   ]
  },
  {
   "cell_type": "code",
   "execution_count": 114,
   "id": "30a96f31",
   "metadata": {},
   "outputs": [],
   "source": [
    "prediction = pd.Series(data=0, index=df.index)\n",
    "prediction.iloc[anomalous_data_indices] = 1"
   ]
  },
  {
   "cell_type": "code",
   "execution_count": 118,
   "id": "612fff4b",
   "metadata": {},
   "outputs": [
    {
     "data": {
      "text/plain": [
       "(79, 135)"
      ]
     },
     "execution_count": 118,
     "metadata": {},
     "output_type": "execute_result"
    }
   ],
   "source": [
    "b = pd.DataFrame({\"pred\":prediction, \"test\":y_test})\n",
    "len(b[b.test > b.pred]), len(b[b.test < b.pred])"
   ]
  },
  {
   "cell_type": "code",
   "execution_count": 127,
   "id": "875e83f9",
   "metadata": {},
   "outputs": [
    {
     "data": {
      "text/html": [
       "<div>\n",
       "<style scoped>\n",
       "    .dataframe tbody tr th:only-of-type {\n",
       "        vertical-align: middle;\n",
       "    }\n",
       "\n",
       "    .dataframe tbody tr th {\n",
       "        vertical-align: top;\n",
       "    }\n",
       "\n",
       "    .dataframe thead th {\n",
       "        text-align: right;\n",
       "    }\n",
       "</style>\n",
       "<table border=\"1\" class=\"dataframe\">\n",
       "  <thead>\n",
       "    <tr style=\"text-align: right;\">\n",
       "      <th></th>\n",
       "      <th>pred</th>\n",
       "      <th>test</th>\n",
       "    </tr>\n",
       "    <tr>\n",
       "      <th>datetime</th>\n",
       "      <th></th>\n",
       "      <th></th>\n",
       "    </tr>\n",
       "  </thead>\n",
       "  <tbody>\n",
       "    <tr>\n",
       "      <th>2020-03-09 10:33:17</th>\n",
       "      <td>1</td>\n",
       "      <td>0</td>\n",
       "    </tr>\n",
       "    <tr>\n",
       "      <th>2020-03-09 10:33:18</th>\n",
       "      <td>1</td>\n",
       "      <td>0</td>\n",
       "    </tr>\n",
       "    <tr>\n",
       "      <th>2020-03-09 10:33:19</th>\n",
       "      <td>1</td>\n",
       "      <td>0</td>\n",
       "    </tr>\n",
       "    <tr>\n",
       "      <th>2020-03-09 10:33:20</th>\n",
       "      <td>1</td>\n",
       "      <td>0</td>\n",
       "    </tr>\n",
       "    <tr>\n",
       "      <th>2020-03-09 10:33:21</th>\n",
       "      <td>1</td>\n",
       "      <td>0</td>\n",
       "    </tr>\n",
       "    <tr>\n",
       "      <th>2020-03-09 10:33:22</th>\n",
       "      <td>1</td>\n",
       "      <td>0</td>\n",
       "    </tr>\n",
       "    <tr>\n",
       "      <th>2020-03-09 10:33:23</th>\n",
       "      <td>1</td>\n",
       "      <td>0</td>\n",
       "    </tr>\n",
       "    <tr>\n",
       "      <th>2020-03-09 10:33:24</th>\n",
       "      <td>1</td>\n",
       "      <td>0</td>\n",
       "    </tr>\n",
       "    <tr>\n",
       "      <th>2020-03-09 10:33:25</th>\n",
       "      <td>1</td>\n",
       "      <td>0</td>\n",
       "    </tr>\n",
       "    <tr>\n",
       "      <th>2020-03-09 10:33:26</th>\n",
       "      <td>1</td>\n",
       "      <td>0</td>\n",
       "    </tr>\n",
       "    <tr>\n",
       "      <th>2020-03-09 10:33:27</th>\n",
       "      <td>1</td>\n",
       "      <td>0</td>\n",
       "    </tr>\n",
       "    <tr>\n",
       "      <th>2020-03-09 10:33:29</th>\n",
       "      <td>1</td>\n",
       "      <td>0</td>\n",
       "    </tr>\n",
       "    <tr>\n",
       "      <th>2020-03-09 10:33:30</th>\n",
       "      <td>1</td>\n",
       "      <td>0</td>\n",
       "    </tr>\n",
       "    <tr>\n",
       "      <th>2020-03-09 10:33:31</th>\n",
       "      <td>1</td>\n",
       "      <td>0</td>\n",
       "    </tr>\n",
       "    <tr>\n",
       "      <th>2020-03-09 10:33:32</th>\n",
       "      <td>1</td>\n",
       "      <td>0</td>\n",
       "    </tr>\n",
       "    <tr>\n",
       "      <th>2020-03-09 10:33:33</th>\n",
       "      <td>1</td>\n",
       "      <td>0</td>\n",
       "    </tr>\n",
       "    <tr>\n",
       "      <th>2020-03-09 10:33:34</th>\n",
       "      <td>1</td>\n",
       "      <td>0</td>\n",
       "    </tr>\n",
       "    <tr>\n",
       "      <th>2020-03-09 10:33:35</th>\n",
       "      <td>1</td>\n",
       "      <td>0</td>\n",
       "    </tr>\n",
       "    <tr>\n",
       "      <th>2020-03-09 10:33:36</th>\n",
       "      <td>1</td>\n",
       "      <td>0</td>\n",
       "    </tr>\n",
       "    <tr>\n",
       "      <th>2020-03-09 10:33:37</th>\n",
       "      <td>1</td>\n",
       "      <td>0</td>\n",
       "    </tr>\n",
       "    <tr>\n",
       "      <th>2020-03-09 10:33:38</th>\n",
       "      <td>1</td>\n",
       "      <td>0</td>\n",
       "    </tr>\n",
       "    <tr>\n",
       "      <th>2020-03-09 10:33:39</th>\n",
       "      <td>1</td>\n",
       "      <td>0</td>\n",
       "    </tr>\n",
       "    <tr>\n",
       "      <th>2020-03-09 10:33:40</th>\n",
       "      <td>1</td>\n",
       "      <td>0</td>\n",
       "    </tr>\n",
       "    <tr>\n",
       "      <th>2020-03-09 10:33:41</th>\n",
       "      <td>1</td>\n",
       "      <td>0</td>\n",
       "    </tr>\n",
       "    <tr>\n",
       "      <th>2020-03-09 10:33:42</th>\n",
       "      <td>1</td>\n",
       "      <td>0</td>\n",
       "    </tr>\n",
       "    <tr>\n",
       "      <th>2020-03-09 10:33:43</th>\n",
       "      <td>1</td>\n",
       "      <td>0</td>\n",
       "    </tr>\n",
       "    <tr>\n",
       "      <th>2020-03-09 10:33:44</th>\n",
       "      <td>1</td>\n",
       "      <td>0</td>\n",
       "    </tr>\n",
       "    <tr>\n",
       "      <th>2020-03-09 10:33:45</th>\n",
       "      <td>1</td>\n",
       "      <td>0</td>\n",
       "    </tr>\n",
       "    <tr>\n",
       "      <th>2020-03-09 10:33:46</th>\n",
       "      <td>1</td>\n",
       "      <td>0</td>\n",
       "    </tr>\n",
       "    <tr>\n",
       "      <th>2020-03-09 10:33:47</th>\n",
       "      <td>1</td>\n",
       "      <td>0</td>\n",
       "    </tr>\n",
       "    <tr>\n",
       "      <th>2020-03-09 10:33:48</th>\n",
       "      <td>1</td>\n",
       "      <td>0</td>\n",
       "    </tr>\n",
       "    <tr>\n",
       "      <th>2020-03-09 10:33:49</th>\n",
       "      <td>1</td>\n",
       "      <td>0</td>\n",
       "    </tr>\n",
       "    <tr>\n",
       "      <th>2020-03-09 10:33:50</th>\n",
       "      <td>1</td>\n",
       "      <td>0</td>\n",
       "    </tr>\n",
       "    <tr>\n",
       "      <th>2020-03-09 10:33:52</th>\n",
       "      <td>1</td>\n",
       "      <td>0</td>\n",
       "    </tr>\n",
       "    <tr>\n",
       "      <th>2020-03-09 10:33:53</th>\n",
       "      <td>1</td>\n",
       "      <td>0</td>\n",
       "    </tr>\n",
       "  </tbody>\n",
       "</table>\n",
       "</div>"
      ],
      "text/plain": [
       "                     pred  test\n",
       "datetime                       \n",
       "2020-03-09 10:33:17     1     0\n",
       "2020-03-09 10:33:18     1     0\n",
       "2020-03-09 10:33:19     1     0\n",
       "2020-03-09 10:33:20     1     0\n",
       "2020-03-09 10:33:21     1     0\n",
       "2020-03-09 10:33:22     1     0\n",
       "2020-03-09 10:33:23     1     0\n",
       "2020-03-09 10:33:24     1     0\n",
       "2020-03-09 10:33:25     1     0\n",
       "2020-03-09 10:33:26     1     0\n",
       "2020-03-09 10:33:27     1     0\n",
       "2020-03-09 10:33:29     1     0\n",
       "2020-03-09 10:33:30     1     0\n",
       "2020-03-09 10:33:31     1     0\n",
       "2020-03-09 10:33:32     1     0\n",
       "2020-03-09 10:33:33     1     0\n",
       "2020-03-09 10:33:34     1     0\n",
       "2020-03-09 10:33:35     1     0\n",
       "2020-03-09 10:33:36     1     0\n",
       "2020-03-09 10:33:37     1     0\n",
       "2020-03-09 10:33:38     1     0\n",
       "2020-03-09 10:33:39     1     0\n",
       "2020-03-09 10:33:40     1     0\n",
       "2020-03-09 10:33:41     1     0\n",
       "2020-03-09 10:33:42     1     0\n",
       "2020-03-09 10:33:43     1     0\n",
       "2020-03-09 10:33:44     1     0\n",
       "2020-03-09 10:33:45     1     0\n",
       "2020-03-09 10:33:46     1     0\n",
       "2020-03-09 10:33:47     1     0\n",
       "2020-03-09 10:33:48     1     0\n",
       "2020-03-09 10:33:49     1     0\n",
       "2020-03-09 10:33:50     1     0\n",
       "2020-03-09 10:33:52     1     0\n",
       "2020-03-09 10:33:53     1     0"
      ]
     },
     "execution_count": 127,
     "metadata": {},
     "output_type": "execute_result"
    }
   ],
   "source": [
    "b[b.test < b.pred][100:150]"
   ]
  },
  {
   "cell_type": "markdown",
   "id": "1e59c920",
   "metadata": {},
   "source": [
    "### Vizualization"
   ]
  },
  {
   "cell_type": "code",
   "execution_count": 117,
   "id": "758aa343",
   "metadata": {},
   "outputs": [
    {
     "data": {
      "image/png": "[encoded data removed]",
      "text/plain": [
       "<Figure size 1440x720 with 2 Axes>"
      ]
     },
     "metadata": {
      "needs_background": "light"
     },
     "output_type": "display_data"
    }
   ],
   "source": [
    "fig, axs = plt.subplots(2, 1, figsize=(20,10))\n",
    "temperatures = df.Temperature\n",
    "axs[0].plot(temperatures)\n",
    "axs[1].plot(temperatures)\n",
    "\n",
    "y = pd.Series(prediction)\n",
    "anomalies_indecies = y.index[y == 1]\n",
    "axs[0].scatter(anomalies_indecies, temperatures[anomalies_indecies], color='r')\n",
    "axs[0].set_title(\"Temperature Predicted\")\n",
    "\n",
    "y = pd.Series(y_test)\n",
    "anomalies_indecies = pd.Series(y.values).index[y == 1]\n",
    "axs[1].scatter(df.index[anomalies_indecies], temperatures[anomalies_indecies], color='r')\n",
    "axs[1].set_title(\"Temperature\")\n",
    "\n",
    "plt.show()"
   ]
  },
  {
   "cell_type": "markdown",
   "id": "8edf4f25",
   "metadata": {},
   "source": [
    "Проблема: Предсказание аномалий начинается примерно на 80 тиков позже, а заканчивается на 135 тиков позже"
   ]
  },
  {
   "cell_type": "markdown",
   "id": "117f24a4",
   "metadata": {},
   "source": [
    "<img src=\"img/shift.jpg\" width=800 height=600 />"
   ]
  },
  {
   "cell_type": "code",
   "execution_count": 119,
   "id": "7da38399",
   "metadata": {},
   "outputs": [
    {
     "name": "stdout",
     "output_type": "stream",
     "text": [
      "F1 = 0.7505827505827506\n",
      "FAR = 0.18096514745308312\n",
      "MAR = 0.1970074812967581\n"
     ]
    }
   ],
   "source": [
    "print(f\"\"\"F1 = {f1_score(y_test, prediction)}\n",
    "FAR = {far(y_test, prediction)}\n",
    "MAR = {mar(y_test, prediction)}\"\"\")"
   ]
  },
  {
   "cell_type": "code",
   "execution_count": null,
   "id": "ec1ed159",
   "metadata": {},
   "outputs": [],
   "source": []
  },
  {
   "cell_type": "code",
   "execution_count": null,
   "id": "aa333523",
   "metadata": {},
   "outputs": [],
   "source": []
  }
 ],
 "metadata": {
  "kernelspec": {
   "display_name": "Python 3 (ipykernel)",
   "language": "python",
   "name": "python3"
  },
  "language_info": {
   "codemirror_mode": {
    "name": "ipython",
    "version": 3
   },
   "file_extension": ".py",
   "mimetype": "text/x-python",
   "name": "python",
   "nbconvert_exporter": "python",
   "pygments_lexer": "ipython3",
   "version": "3.10.2"
  }
 },
 "nbformat": 4,
 "nbformat_minor": 5
}
