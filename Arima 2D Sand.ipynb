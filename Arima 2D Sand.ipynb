{
 "cells": [
  {
   "cell_type": "code",
   "execution_count": 8,
   "id": "f490729b",
   "metadata": {},
   "outputs": [],
   "source": [
    "import pandas as pd\n",
    "import numpy as np\n",
    "import arimafd as oa\n",
    "import matplotlib.pyplot as plt"
   ]
  },
  {
   "cell_type": "code",
   "execution_count": 1,
   "id": "b2935f8a",
   "metadata": {},
   "outputs": [
    {
     "name": "stderr",
     "output_type": "stream",
     "text": [
      "C:\\Python310\\lib\\site-packages\\arimafd\\tanh.py:140: FutureWarning: The frame.append method is deprecated and will be removed from pandas in a future version. Use pandas.concat instead.\n",
      "  self.ww=self.ww.append([self.w], ignore_index=True)\n",
      "C:\\Python310\\lib\\site-packages\\arimafd\\tanh.py:141: FutureWarning: The frame.append method is deprecated and will be removed from pandas in a future version. Use pandas.concat instead.\n",
      "  self.dif_w = self.dif_w.append([self.diff], ignore_index=True)\n"
     ]
    },
    {
     "name": "stdout",
     "output_type": "stream",
     "text": [
      "Time seconds: 29.855043172836304\n"
     ]
    },
    {
     "data": {
      "text/plain": [
       "2000-01-01 03:00:00    0\n",
       "2000-01-01 04:00:00    0\n",
       "2000-01-01 05:00:00    0\n",
       "2000-01-01 06:00:00    0\n",
       "2000-01-01 07:00:00    0\n",
       "                      ..\n",
       "2000-02-11 11:00:00    0\n",
       "2000-02-11 12:00:00    0\n",
       "2000-02-11 13:00:00    0\n",
       "2000-02-11 14:00:00    1\n",
       "2000-02-11 15:00:00    1\n",
       "Freq: H, Length: 997, dtype: int32"
      ]
     },
     "execution_count": 1,
     "metadata": {},
     "output_type": "execute_result"
    }
   ],
   "source": [
    "\n",
    "\n",
    "my_array = np.random.normal(size=1000) # init array\n",
    "my_array[-3] = 1000 # init anomaly\n",
    "ts = pd.DataFrame(my_array,\n",
    "                  index=pd.date_range(start='01-01-2000',\n",
    "                                      periods=1000,\n",
    "                                      freq='H'))\n",
    "ad = oa.Anomaly_detection(ts) #init anomaly detection algorithm\n",
    "ad.generate_tensor(ar_order=3) #it compute weights of ARIMA on history \n",
    "ts_anomaly = ad.proc_tensor() #processing of weights. \n",
    "ts_anomaly"
   ]
  },
  {
   "cell_type": "code",
   "execution_count": 24,
   "id": "b836d689",
   "metadata": {},
   "outputs": [],
   "source": [
    "my_df = np.array([np.random.normal(size=1000), np.random.normal(size=1000)])\n",
    "# my_df[1, -3] = 1000 # init anomaly\n",
    "my_df[0, -3] = 1000 # init anomaly\n",
    "my_df = my_df.T"
   ]
  },
  {
   "cell_type": "code",
   "execution_count": 25,
   "id": "3e46d07d",
   "metadata": {},
   "outputs": [
    {
     "name": "stderr",
     "output_type": "stream",
     "text": [
      "C:\\Python310\\lib\\site-packages\\arimafd\\tanh.py:140: FutureWarning: The frame.append method is deprecated and will be removed from pandas in a future version. Use pandas.concat instead.\n",
      "  self.ww=self.ww.append([self.w], ignore_index=True)\n",
      "C:\\Python310\\lib\\site-packages\\arimafd\\tanh.py:141: FutureWarning: The frame.append method is deprecated and will be removed from pandas in a future version. Use pandas.concat instead.\n",
      "  self.dif_w = self.dif_w.append([self.diff], ignore_index=True)\n"
     ]
    },
    {
     "name": "stdout",
     "output_type": "stream",
     "text": [
      "Time seconds: 29.434051990509033\n",
      "Projection\n"
     ]
    },
    {
     "ename": "TypeError",
     "evalue": "Cannot convert complex to float",
     "output_type": "error",
     "traceback": [
      "\u001b[1;31m---------------------------------------------------------------------------\u001b[0m",
      "\u001b[1;31mTypeError\u001b[0m                                 Traceback (most recent call last)",
      "Input \u001b[1;32mIn [25]\u001b[0m, in \u001b[0;36m<module>\u001b[1;34m\u001b[0m\n\u001b[0;32m      1\u001b[0m ts \u001b[38;5;241m=\u001b[39m pd\u001b[38;5;241m.\u001b[39mDataFrame(my_df,\n\u001b[0;32m      2\u001b[0m                   index\u001b[38;5;241m=\u001b[39mpd\u001b[38;5;241m.\u001b[39mdate_range(start\u001b[38;5;241m=\u001b[39m\u001b[38;5;124m'\u001b[39m\u001b[38;5;124m01-01-2000\u001b[39m\u001b[38;5;124m'\u001b[39m,\n\u001b[0;32m      3\u001b[0m                                       periods\u001b[38;5;241m=\u001b[39m\u001b[38;5;241m1000\u001b[39m,\n\u001b[0;32m      4\u001b[0m                                       freq\u001b[38;5;241m=\u001b[39m\u001b[38;5;124m'\u001b[39m\u001b[38;5;124mH\u001b[39m\u001b[38;5;124m'\u001b[39m))\n\u001b[0;32m      5\u001b[0m ad \u001b[38;5;241m=\u001b[39m oa\u001b[38;5;241m.\u001b[39mAnomaly_detection(ts) \u001b[38;5;66;03m#init anomaly detection algorithm\u001b[39;00m\n\u001b[1;32m----> 6\u001b[0m \u001b[43mad\u001b[49m\u001b[38;5;241;43m.\u001b[39;49m\u001b[43mgenerate_tensor\u001b[49m\u001b[43m(\u001b[49m\u001b[43mar_order\u001b[49m\u001b[38;5;241;43m=\u001b[39;49m\u001b[38;5;241;43m3\u001b[39;49m\u001b[43m)\u001b[49m \u001b[38;5;66;03m#it compute weights of ARIMA on history \u001b[39;00m\n\u001b[0;32m      7\u001b[0m ts_anomaly \u001b[38;5;241m=\u001b[39m ad\u001b[38;5;241m.\u001b[39mproc_tensor() \u001b[38;5;66;03m#processing of weights. \u001b[39;00m\n\u001b[0;32m      8\u001b[0m ts_anomaly\n",
      "File \u001b[1;32mC:\\Python310\\lib\\site-packages\\arimafd\\tanh.py:289\u001b[0m, in \u001b[0;36mAnomaly_detection.generate_tensor\u001b[1;34m(self, ar_order, verbose)\u001b[0m\n\u001b[0;32m    286\u001b[0m \u001b[38;5;28mself\u001b[39m\u001b[38;5;241m.\u001b[39mdiffrs\u001b[38;5;241m.\u001b[39mappend(diffr)\n\u001b[0;32m    288\u001b[0m model\u001b[38;5;241m=\u001b[39monline_tanh(ar_order)\n\u001b[1;32m--> 289\u001b[0m \u001b[43mmodel\u001b[49m\u001b[38;5;241;43m.\u001b[39;49m\u001b[43mfit\u001b[49m\u001b[43m(\u001b[49m\u001b[43mdif\u001b[49m\u001b[43m)\u001b[49m\n\u001b[0;32m    291\u001b[0m \u001b[38;5;28mself\u001b[39m\u001b[38;5;241m.\u001b[39mmodels\u001b[38;5;241m.\u001b[39mappend(model)\n\u001b[0;32m    292\u001b[0m t2\u001b[38;5;241m=\u001b[39mtime()\n",
      "File \u001b[1;32mC:\\Python310\\lib\\site-packages\\arimafd\\tanh.py:139\u001b[0m, in \u001b[0;36monline_tanh.fit\u001b[1;34m(self, data, init_w)\u001b[0m\n\u001b[0;32m    136\u001b[0m \u001b[38;5;28mself\u001b[39m\u001b[38;5;241m.\u001b[39mw \u001b[38;5;241m-\u001b[39m\u001b[38;5;241m=\u001b[39m \u001b[38;5;28mself\u001b[39m\u001b[38;5;241m.\u001b[39mlrate \u001b[38;5;241m*\u001b[39m \u001b[38;5;28mself\u001b[39m\u001b[38;5;241m.\u001b[39mdiff \u001b[38;5;241m*\u001b[39m \u001b[38;5;28mself\u001b[39m\u001b[38;5;241m.\u001b[39mfun_w(i)\n\u001b[0;32m    138\u001b[0m \u001b[38;5;28;01mif\u001b[39;00m \u001b[38;5;28mself\u001b[39m\u001b[38;5;241m.\u001b[39mproject:\n\u001b[1;32m--> 139\u001b[0m     \u001b[38;5;28mself\u001b[39m\u001b[38;5;241m.\u001b[39mw \u001b[38;5;241m=\u001b[39m \u001b[43mprojection\u001b[49m\u001b[43m(\u001b[49m\u001b[38;5;28;43mself\u001b[39;49m\u001b[38;5;241;43m.\u001b[39;49m\u001b[43mw\u001b[49m\u001b[43m)\u001b[49m\n\u001b[0;32m    140\u001b[0m \u001b[38;5;28mself\u001b[39m\u001b[38;5;241m.\u001b[39mww\u001b[38;5;241m=\u001b[39m\u001b[38;5;28mself\u001b[39m\u001b[38;5;241m.\u001b[39mww\u001b[38;5;241m.\u001b[39mappend([\u001b[38;5;28mself\u001b[39m\u001b[38;5;241m.\u001b[39mw], ignore_index\u001b[38;5;241m=\u001b[39m\u001b[38;5;28;01mTrue\u001b[39;00m)\n\u001b[0;32m    141\u001b[0m \u001b[38;5;28mself\u001b[39m\u001b[38;5;241m.\u001b[39mdif_w \u001b[38;5;241m=\u001b[39m \u001b[38;5;28mself\u001b[39m\u001b[38;5;241m.\u001b[39mdif_w\u001b[38;5;241m.\u001b[39mappend([\u001b[38;5;28mself\u001b[39m\u001b[38;5;241m.\u001b[39mdiff], ignore_index\u001b[38;5;241m=\u001b[39m\u001b[38;5;28;01mTrue\u001b[39;00m)\n",
      "File \u001b[1;32mC:\\Python310\\lib\\site-packages\\arimafd\\tanh.py:46\u001b[0m, in \u001b[0;36mprojection\u001b[1;34m(w, circle)\u001b[0m\n\u001b[0;32m     44\u001b[0m     scale \u001b[38;5;241m=\u001b[39m circle\u001b[38;5;241m/\u001b[39ml1\n\u001b[0;32m     45\u001b[0m     new_roots \u001b[38;5;241m=\u001b[39m roots\u001b[38;5;241m*\u001b[39mscale\n\u001b[1;32m---> 46\u001b[0m     new_w\u001b[38;5;241m=\u001b[39m\u001b[43mc_find\u001b[49m\u001b[43m(\u001b[49m\u001b[43mnew_roots\u001b[49m\u001b[43m)\u001b[49m[::\u001b[38;5;241m-\u001b[39m\u001b[38;5;241m1\u001b[39m]\n\u001b[0;32m     47\u001b[0m     \u001b[38;5;28;01mreturn\u001b[39;00m new_w\n\u001b[0;32m     48\u001b[0m \u001b[38;5;28;01melse\u001b[39;00m:\n",
      "File \u001b[1;32mC:\\Python310\\lib\\site-packages\\arimafd\\tanh.py:36\u001b[0m, in \u001b[0;36mprojection.<locals>.c_find\u001b[1;34m(roots)\u001b[0m\n\u001b[0;32m     34\u001b[0m \u001b[38;5;66;03m#     print('f(x) =',whole.expand())\u001b[39;00m\n\u001b[0;32m     35\u001b[0m     p \u001b[38;5;241m=\u001b[39m poly(whole, x)\n\u001b[1;32m---> 36\u001b[0m     \u001b[38;5;28;01mreturn\u001b[39;00m \u001b[43mnp\u001b[49m\u001b[38;5;241;43m.\u001b[39;49m\u001b[43marray\u001b[49m\u001b[43m(\u001b[49m\u001b[43mp\u001b[49m\u001b[38;5;241;43m.\u001b[39;49m\u001b[43mall_coeffs\u001b[49m\u001b[43m(\u001b[49m\u001b[43m)\u001b[49m\u001b[43m)\u001b[49m\u001b[38;5;241;43m.\u001b[39;49m\u001b[43mastype\u001b[49m\u001b[43m(\u001b[49m\u001b[38;5;28;43mfloat\u001b[39;49m\u001b[43m)\u001b[49m\n",
      "File \u001b[1;32mC:\\Python310\\lib\\site-packages\\sympy\\core\\expr.py:344\u001b[0m, in \u001b[0;36mExpr.__float__\u001b[1;34m(self)\u001b[0m\n\u001b[0;32m    342\u001b[0m     \u001b[38;5;28;01mreturn\u001b[39;00m \u001b[38;5;28mfloat\u001b[39m(result)\n\u001b[0;32m    343\u001b[0m \u001b[38;5;28;01mif\u001b[39;00m result\u001b[38;5;241m.\u001b[39mis_number \u001b[38;5;129;01mand\u001b[39;00m result\u001b[38;5;241m.\u001b[39mas_real_imag()[\u001b[38;5;241m1\u001b[39m]:\n\u001b[1;32m--> 344\u001b[0m     \u001b[38;5;28;01mraise\u001b[39;00m \u001b[38;5;167;01mTypeError\u001b[39;00m(\u001b[38;5;124m\"\u001b[39m\u001b[38;5;124mCannot convert complex to float\u001b[39m\u001b[38;5;124m\"\u001b[39m)\n\u001b[0;32m    345\u001b[0m \u001b[38;5;28;01mraise\u001b[39;00m \u001b[38;5;167;01mTypeError\u001b[39;00m(\u001b[38;5;124m\"\u001b[39m\u001b[38;5;124mCannot convert expression to float\u001b[39m\u001b[38;5;124m\"\u001b[39m)\n",
      "\u001b[1;31mTypeError\u001b[0m: Cannot convert complex to float"
     ]
    }
   ],
   "source": [
    "\n",
    "ts = pd.DataFrame(my_df,\n",
    "                  index=pd.date_range(start='01-01-2000',\n",
    "                                      periods=1000,\n",
    "                                      freq='H'))\n",
    "ad = oa.Anomaly_detection(ts) #init anomaly detection algorithm\n",
    "ad.generate_tensor(ar_order=3) #it compute weights of ARIMA on history \n",
    "ts_anomaly = ad.proc_tensor() #processing of weights. \n",
    "ts_anomaly"
   ]
  },
  {
   "cell_type": "code",
   "execution_count": 32,
   "id": "49928e1a",
   "metadata": {},
   "outputs": [
    {
     "data": {
      "text/html": [
       "<div>\n",
       "<style scoped>\n",
       "    .dataframe tbody tr th:only-of-type {\n",
       "        vertical-align: middle;\n",
       "    }\n",
       "\n",
       "    .dataframe tbody tr th {\n",
       "        vertical-align: top;\n",
       "    }\n",
       "\n",
       "    .dataframe thead th {\n",
       "        text-align: right;\n",
       "    }\n",
       "</style>\n",
       "<table border=\"1\" class=\"dataframe\">\n",
       "  <thead>\n",
       "    <tr style=\"text-align: right;\">\n",
       "      <th></th>\n",
       "      <th>0</th>\n",
       "      <th>1</th>\n",
       "    </tr>\n",
       "  </thead>\n",
       "  <tbody>\n",
       "    <tr>\n",
       "      <th>0</th>\n",
       "      <td>-1.893615</td>\n",
       "      <td>0.556553</td>\n",
       "    </tr>\n",
       "    <tr>\n",
       "      <th>1</th>\n",
       "      <td>0.213294</td>\n",
       "      <td>-1.335482</td>\n",
       "    </tr>\n",
       "    <tr>\n",
       "      <th>2</th>\n",
       "      <td>0.001205</td>\n",
       "      <td>0.486036</td>\n",
       "    </tr>\n",
       "    <tr>\n",
       "      <th>3</th>\n",
       "      <td>-0.817089</td>\n",
       "      <td>-1.547304</td>\n",
       "    </tr>\n",
       "    <tr>\n",
       "      <th>4</th>\n",
       "      <td>0.659246</td>\n",
       "      <td>1.082691</td>\n",
       "    </tr>\n",
       "  </tbody>\n",
       "</table>\n",
       "</div>"
      ],
      "text/plain": [
       "          0         1\n",
       "0 -1.893615  0.556553\n",
       "1  0.213294 -1.335482\n",
       "2  0.001205  0.486036\n",
       "3 -0.817089 -1.547304\n",
       "4  0.659246  1.082691"
      ]
     },
     "execution_count": 32,
     "metadata": {},
     "output_type": "execute_result"
    }
   ],
   "source": [
    "df = pd.DataFrame(my_df)\n",
    "df.head()"
   ]
  },
  {
   "cell_type": "code",
   "execution_count": 35,
   "id": "eb7d2fc5",
   "metadata": {},
   "outputs": [
    {
     "data": {
      "text/plain": [
       "(Int64Index([995, 996], dtype='int64'),\n",
       " 995   -0.155259\n",
       " 996   -1.907808\n",
       " Name: 0, dtype: float64)"
      ]
     },
     "execution_count": 35,
     "metadata": {},
     "output_type": "execute_result"
    }
   ],
   "source": [
    "\n",
    "values = df[0]\n",
    "\n",
    "\n",
    "y = pd.Series(ts_anomaly.values)\n",
    "anomalies_indecies = y.index[y == 1]\n",
    "anomalies_indecies, values[anomalies_indecies]\n"
   ]
  },
  {
   "cell_type": "code",
   "execution_count": 36,
   "id": "762cb3e0",
   "metadata": {},
   "outputs": [
    {
     "data": {
      "text/plain": [
       "Text(0.5, 1.0, 'Temperature Predicted')"
      ]
     },
     "execution_count": 36,
     "metadata": {},
     "output_type": "execute_result"
    },
    {
     "data": {
      "image/png": "[encoded data removed]",
      "text/plain": [
       "<Figure size 1440x720 with 2 Axes>"
      ]
     },
     "metadata": {
      "needs_background": "light"
     },
     "output_type": "display_data"
    }
   ],
   "source": [
    "fig, axs = plt.subplots(2, 1, figsize=(20,10))\n",
    "axs[0].plot(values)\n",
    "axs[0].scatter(df.index[anomalies_indecies], values[anomalies_indecies], color='r')\n",
    "# #axs.scatter(cpi, temperatures[cpi], color='g', marker='^', s=300)\n",
    "axs[0].set_title(\"Temperature Predicted\")"
   ]
  },
  {
   "cell_type": "code",
   "execution_count": 31,
   "id": "1c0523d6",
   "metadata": {},
   "outputs": [
    {
     "data": {
      "text/html": [
       "<div>\n",
       "<style scoped>\n",
       "    .dataframe tbody tr th:only-of-type {\n",
       "        vertical-align: middle;\n",
       "    }\n",
       "\n",
       "    .dataframe tbody tr th {\n",
       "        vertical-align: top;\n",
       "    }\n",
       "\n",
       "    .dataframe thead th {\n",
       "        text-align: right;\n",
       "    }\n",
       "</style>\n",
       "<table border=\"1\" class=\"dataframe\">\n",
       "  <thead>\n",
       "    <tr style=\"text-align: right;\">\n",
       "      <th></th>\n",
       "      <th>0</th>\n",
       "      <th>1</th>\n",
       "    </tr>\n",
       "  </thead>\n",
       "  <tbody>\n",
       "    <tr>\n",
       "      <th>995</th>\n",
       "      <td>-0.155259</td>\n",
       "      <td>0.360648</td>\n",
       "    </tr>\n",
       "    <tr>\n",
       "      <th>996</th>\n",
       "      <td>-1.907808</td>\n",
       "      <td>-0.863494</td>\n",
       "    </tr>\n",
       "    <tr>\n",
       "      <th>997</th>\n",
       "      <td>1000.000000</td>\n",
       "      <td>-0.031203</td>\n",
       "    </tr>\n",
       "    <tr>\n",
       "      <th>998</th>\n",
       "      <td>-0.413606</td>\n",
       "      <td>0.018017</td>\n",
       "    </tr>\n",
       "    <tr>\n",
       "      <th>999</th>\n",
       "      <td>1.887688</td>\n",
       "      <td>0.472630</td>\n",
       "    </tr>\n",
       "  </tbody>\n",
       "</table>\n",
       "</div>"
      ],
      "text/plain": [
       "               0         1\n",
       "995    -0.155259  0.360648\n",
       "996    -1.907808 -0.863494\n",
       "997  1000.000000 -0.031203\n",
       "998    -0.413606  0.018017\n",
       "999     1.887688  0.472630"
      ]
     },
     "execution_count": 31,
     "metadata": {},
     "output_type": "execute_result"
    }
   ],
   "source": [
    "df.tail()"
   ]
  },
  {
   "cell_type": "code",
   "execution_count": null,
   "id": "d9561f8d",
   "metadata": {},
   "outputs": [],
   "source": []
  }
 ],
 "metadata": {
  "kernelspec": {
   "display_name": "Python 3 (ipykernel)",
   "language": "python",
   "name": "python3"
  },
  "language_info": {
   "codemirror_mode": {
    "name": "ipython",
    "version": 3
   },
   "file_extension": ".py",
   "mimetype": "text/x-python",
   "name": "python",
   "nbconvert_exporter": "python",
   "pygments_lexer": "ipython3",
   "version": "3.10.2"
  }
 },
 "nbformat": 4,
 "nbformat_minor": 5
}
