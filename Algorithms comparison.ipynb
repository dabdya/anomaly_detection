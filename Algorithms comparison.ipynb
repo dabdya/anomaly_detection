{
 "cells": [
  {
   "cell_type": "code",
   "execution_count": 2,
   "id": "d5040d5f-562d-4175-8c75-65ab18d2e7d6",
   "metadata": {},
   "outputs": [],
   "source": [
    "import matplotlib.pyplot as plt\n",
    "import pandas as pd\n",
    "import numpy as np\n",
    "from utils.data import load_df\n",
    "import warnings \n",
    "warnings.filterwarnings('ignore')\n",
    "from utils.data import create_sequences\n",
    "from sklearn.preprocessing import StandardScaler\n",
    "from utils.metrics import mar, far, f1_score\n",
    "\n",
    "from models.lstm_ae import LSTM_AE\n"
   ]
  },
  {
   "cell_type": "code",
   "execution_count": 42,
   "id": "132a35be-b72d-4b66-8844-1c29cbc706e6",
   "metadata": {},
   "outputs": [],
   "source": [
    "from utils.pipeline import Pipeline, Predictor\n",
    "\n",
    "class AEConfig:\n",
    "    train_size = 400\n",
    "    TIME_STEPS = 50\n",
    "    epochs = 1\n",
    "    batch_size = 10 \n",
    "    Q = 0.99\n",
    "    \n",
    "class LSTM_AE_Predictor(Predictor):\n",
    "    def __str__(self): return \"LSTM-AE\"\n",
    "    def make_prediction(self, df):\n",
    "        conf = AEConfig\n",
    "        ss = StandardScaler()\n",
    "        x_train = np.array(ss.fit_transform(df[:conf.train_size].drop(['anomaly','changepoint'], axis=1)))\n",
    "        x_train = create_sequences(x_train, conf.TIME_STEPS)\n",
    "        \n",
    "        model = LSTM_AE()\n",
    "        model.fit(x_train, conf.epochs, conf.batch_size, conf.TIME_STEPS)\n",
    "        \n",
    "        health_r = pd.Series(np.sum(np.mean(np.abs(model.predict(x_train) - x_train), axis=1), axis=1))\n",
    "        UCL = health_r.quantile(conf.Q)\n",
    "        \n",
    "        x_test = df.drop(['anomaly','changepoint'], axis=1)\n",
    "        x_test = np.array(ss.transform(x_test))\n",
    "        x_test = create_sequences(x_test, conf.TIME_STEPS)\n",
    "        \n",
    "        r = pd.Series(np.sum(np.mean(np.abs(model.predict(x_test) - x_test), axis=1), axis=1))        \n",
    "        anomalous_data = r > (3/2 * UCL)\n",
    "        anomalous_data_indices = [] \n",
    "        for data_idx in range(conf.TIME_STEPS - 1, len(x_test) - conf.TIME_STEPS + 1):\n",
    "            if np.all(anomalous_data[data_idx - conf.TIME_STEPS + 1 : data_idx]):\n",
    "                anomalous_data_indices.append(data_idx - int(conf.TIME_STEPS // 6))\n",
    "        prediction = pd.Series(data=0, index=df.index)\n",
    "        prediction.iloc[anomalous_data_indices] = 1\n",
    "        return prediction\n",
    "        \n"
   ]
  },
  {
   "cell_type": "code",
   "execution_count": 54,
   "id": "d3570601-54c0-481a-9d1c-d269085a5982",
   "metadata": {},
   "outputs": [],
   "source": [
    "class ADConfig:\n",
    "    train_size = 400\n",
    "    TIME_STEPS = 50\n",
    "    epochs = 2\n",
    "    batch_size = 32\n",
    "    Q = 0.99\n",
    "from models.lstm_ad import LSTM_AD\n",
    "  \n",
    "class LSTM_AD_Predictor(Predictor):\n",
    "    def __str__(self): return \"LSTM-AD\"\n",
    "    \n",
    "    def make_prediction(self, df):\n",
    "        conf = ADConfig\n",
    "        SS = StandardScaler()\n",
    "        df = df.drop(['anomaly','changepoint'], axis=1)\n",
    "             \n",
    "        x_train = np.array(SS.fit_transform(df[:conf.train_size]))\n",
    "        x_train = create_sequences(x_train, conf.TIME_STEPS)\n",
    "\n",
    "        lstm_ad = LSTM_AD().fit(x_train)\n",
    "        x_test = np.array(SS.transform(df))\n",
    "        x_test = create_sequences(x_test, conf.TIME_STEPS)\n",
    "\n",
    "        predictions = lstm_ad.predict(x_test)\n",
    "\n",
    "        r = pd.Series(np.sum(np.mean(np.abs(np.array(predictions) - x_test), axis=1), axis=1))\n",
    "        health_r = r[:conf.train_size]\n",
    "        \n",
    "        UCL = health_r.quantile(conf.Q)\n",
    "        anomalous_data = r > (3/2 * UCL)\n",
    "\n",
    "        anomalous_data_indices = [] \n",
    "        for data_idx in range(conf.TIME_STEPS - 1, len(x_test) - conf.TIME_STEPS + 1):\n",
    "            if np.all(anomalous_data[data_idx - conf.TIME_STEPS + 1 : data_idx]):\n",
    "                anomalous_data_indices.append(data_idx - int(conf.TIME_STEPS // 6))\n",
    "\n",
    "        prediction = pd.Series(data=0, index=df.index)\n",
    "        prediction.iloc[anomalous_data_indices] = 1\n",
    "        return prediction"
   ]
  },
  {
   "cell_type": "code",
   "execution_count": 55,
   "id": "31bcbfd0-495b-4f50-a69f-819697c6545e",
   "metadata": {},
   "outputs": [],
   "source": [
    "from utils.pipeline import Pipeline, Predictor\n",
    "from models.mset import MSET"
   ]
  },
  {
   "cell_type": "code",
   "execution_count": 63,
   "id": "bfb0b75e-9af9-4786-991e-25cfaaee2cf5",
   "metadata": {},
   "outputs": [],
   "source": [
    "import math\n",
    "def movmean(array, window):\n",
    "\n",
    "    n = np.size(array)\n",
    "    xx = array.copy()\n",
    "    y = []\n",
    "    for i in range(0, window):\n",
    "        y.append(np.roll(xx.tolist() + [np.nan]*window, i))\n",
    "    y = np.nanmean(y, axis=0)\n",
    "    l = math.ceil(window/2)\n",
    "\n",
    "    return y[l-1:n+l-1]\n",
    "\n",
    "class MsetPredictor(Predictor):\n",
    "    def __str__(self): return \"MSET\"\n",
    "    \n",
    "    def make_prediction(self, df):\n",
    "        \n",
    "        train_size = 400\n",
    "        window_size = 40\n",
    "\n",
    "        # We know that 35% it is anomalies\n",
    "        quantile_value = 0.6\n",
    "\n",
    "        df = df.drop(['anomaly','changepoint'], axis=1)\n",
    "\n",
    "        mset = MSET()\n",
    "        mset.fit(df[:train_size])\n",
    "\n",
    "        y_pred = mset.predict(df)\n",
    "\n",
    "        err = np.linalg.norm((y_pred.T - df), axis=1)\n",
    "        rel_err = movmean(err/np.linalg.norm(y_pred.T, axis=1), window=window_size)\n",
    "        UCL = pd.Series(rel_err).quantile(quantile_value)\n",
    "\n",
    "        prediction = pd.DataFrame((rel_err > UCL), df.index).fillna(0).any(axis=1).astype(int)\n",
    "        return prediction"
   ]
  },
  {
   "cell_type": "code",
   "execution_count": 64,
   "id": "46688621-9145-418d-95ba-c3db903a1996",
   "metadata": {},
   "outputs": [],
   "source": [
    "class IFConfig:\n",
    "    train_size = 400\n",
    "from sklearn.ensemble import IsolationForest\n",
    "\n",
    "class IForest_Predictor(Predictor):\n",
    "    def __str__(self): return \"IForest\"\n",
    "    \n",
    "    def make_prediction(self, df):\n",
    "        conf = IFConfig\n",
    "        df = df.drop([\"anomaly\", \"changepoint\"], axis=1)\n",
    "        clf = IsolationForest(contamination=0.01, n_jobs=-1)\n",
    "        clf.fit(df.values[:conf.train_size])\n",
    "        prediction_raw = clf.predict(df.values)\n",
    "        prediction = pd.Series(prediction_raw, df.index).map({-1: 1, 1:0})\n",
    "        return prediction"
   ]
  },
  {
   "cell_type": "code",
   "execution_count": 65,
   "id": "c35fefe4-8351-4f19-a18f-957905496df8",
   "metadata": {},
   "outputs": [],
   "source": [
    "df = pd.read_csv(\"./data/valve1/0.csv\", sep=\";\", parse_dates=True, index_col=\"datetime\")\n",
    "\n",
    "df.sort_index(inplace=True)"
   ]
  },
  {
   "cell_type": "code",
   "execution_count": null,
   "id": "9d0e0b46-2bcb-4b6f-b20e-f920a236b2a8",
   "metadata": {},
   "outputs": [
    {
     "name": "stdout",
     "output_type": "stream",
     "text": [
      "36/36 [==============================] - 9s 124ms/step - loss: 9.4266\n",
      "Epoch 1/2\n",
      "11/11 [==============================] - 5s 106ms/step - loss: 0.8997\n",
      "Epoch 2/2\n",
      "11/11 [==============================] - 1s 107ms/step - loss: 0.7835\n"
     ]
    }
   ],
   "source": [
    "predictors = [\n",
    "    LSTM_AE_Predictor(),\n",
    "    LSTM_AD_Predictor(),\n",
    "    IForest_Predictor(), \n",
    "    MsetPredictor()\n",
    "]\n",
    "predictions = []\n",
    "for predictor in predictors:\n",
    "    predictions.append((predictor.__str__(), predictor.make_prediction(df)))\n",
    "    "
   ]
  },
  {
   "cell_type": "code",
   "execution_count": null,
   "id": "49b15687-5fba-4b4c-9dd4-ca8832b9043e",
   "metadata": {},
   "outputs": [],
   "source": [
    "colors=[\"orange\",\"green\",\"blue\", \"red\",\"magenta\"]"
   ]
  },
  {
   "cell_type": "code",
   "execution_count": null,
   "id": "7dda23e8-9ac6-407c-858f-f70e3cf31ba8",
   "metadata": {},
   "outputs": [],
   "source": [
    "y_test = df.anomaly\n",
    "fig, axs = plt.subplots(2, 1, figsize=(20,10))\n",
    "temperatures = df.Temperature\n",
    "axs[0].plot(temperatures)\n",
    "axs[1].plot(temperatures)\n",
    "\n",
    "for i, (predictor, prediction) in enumerate(predictions):\n",
    "    y = pd.Series(prediction)\n",
    "    anomalies_indecies = y.index[y == 1]\n",
    "    axs[0].scatter(anomalies_indecies, i +1 + temperatures[anomalies_indecies], s=15, color=colors[i])\n",
    "\n",
    "axs[0].set_title(\"Temperature Predicted\")\n",
    "axs[0].legend([\"T\"]+[p for (p,_) in predictions])\n",
    "\n",
    "y = pd.Series(y_test)\n",
    "anomalies_indecies = pd.Series(y.values).index[y == 1]\n",
    "axs[1].scatter(df.index[anomalies_indecies], temperatures[anomalies_indecies], color='r')\n",
    "axs[1].set_title(\"Temperature\")\n",
    "\n",
    "plt.show()"
   ]
  },
  {
   "cell_type": "code",
   "execution_count": null,
   "id": "892b9e9f-1111-4a5a-88ec-c484a5782748",
   "metadata": {},
   "outputs": [],
   "source": []
  },
  {
   "cell_type": "code",
   "execution_count": null,
   "id": "7386e54e-3227-43f1-8087-e153070bc827",
   "metadata": {},
   "outputs": [],
   "source": []
  }
 ],
 "metadata": {
  "kernelspec": {
   "display_name": "Python 3 (ipykernel)",
   "language": "python",
   "name": "python3"
  },
  "language_info": {
   "codemirror_mode": {
    "name": "ipython",
    "version": 3
   },
   "file_extension": ".py",
   "mimetype": "text/x-python",
   "name": "python",
   "nbconvert_exporter": "python",
   "pygments_lexer": "ipython3",
   "version": "3.10.4"
  }
 },
 "nbformat": 4,
 "nbformat_minor": 5
}
