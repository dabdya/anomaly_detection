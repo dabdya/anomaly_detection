{
 "cells": [
  {
   "cell_type": "code",
   "execution_count": 1,
   "id": "cbe2e728",
   "metadata": {},
   "outputs": [],
   "source": [
    "import matplotlib.pyplot as plt\n",
    "import pandas as pd\n",
    "import numpy as np\n",
    "\n",
    "from typing import Dict\n",
    "\n",
    "import warnings\n",
    "warnings.filterwarnings(\"ignore\")"
   ]
  },
  {
   "cell_type": "code",
   "execution_count": 2,
   "id": "d6b60065",
   "metadata": {},
   "outputs": [],
   "source": [
    "seed_value = 42\n",
    "\n",
    "import os\n",
    "os.environ['PYTHONHASHSEED'] = str(seed_value)\n",
    "\n",
    "import random\n",
    "random.seed(seed_value)\n",
    "\n",
    "import numpy as np\n",
    "np.random.seed(seed_value)\n",
    "\n",
    "import tensorflow as tf\n",
    "tf.random.set_seed(seed_value)"
   ]
  },
  {
   "cell_type": "code",
   "execution_count": 25,
   "id": "96ffde0c",
   "metadata": {},
   "outputs": [
    {
     "data": {
      "text/html": [
       "<div>\n",
       "<style scoped>\n",
       "    .dataframe tbody tr th:only-of-type {\n",
       "        vertical-align: middle;\n",
       "    }\n",
       "\n",
       "    .dataframe tbody tr th {\n",
       "        vertical-align: top;\n",
       "    }\n",
       "\n",
       "    .dataframe thead th {\n",
       "        text-align: right;\n",
       "    }\n",
       "</style>\n",
       "<table border=\"1\" class=\"dataframe\">\n",
       "  <thead>\n",
       "    <tr style=\"text-align: right;\">\n",
       "      <th></th>\n",
       "      <th>Timestamp</th>\n",
       "      <th>FIT101</th>\n",
       "      <th>LIT101</th>\n",
       "      <th>MV101</th>\n",
       "      <th>P101</th>\n",
       "      <th>P102</th>\n",
       "      <th>AIT201</th>\n",
       "      <th>AIT202</th>\n",
       "      <th>AIT203</th>\n",
       "      <th>FIT201</th>\n",
       "      <th>...</th>\n",
       "      <th>P501</th>\n",
       "      <th>P502</th>\n",
       "      <th>PIT501</th>\n",
       "      <th>PIT502</th>\n",
       "      <th>PIT503</th>\n",
       "      <th>FIT601</th>\n",
       "      <th>P601</th>\n",
       "      <th>P602</th>\n",
       "      <th>P603</th>\n",
       "      <th>Normal/Attack</th>\n",
       "    </tr>\n",
       "  </thead>\n",
       "  <tbody>\n",
       "    <tr>\n",
       "      <th>0</th>\n",
       "      <td>28/12/2015 7:50:00 AM</td>\n",
       "      <td>2.462287</td>\n",
       "      <td>541.3740</td>\n",
       "      <td>2</td>\n",
       "      <td>1</td>\n",
       "      <td>1</td>\n",
       "      <td>260.7344</td>\n",
       "      <td>8.409895</td>\n",
       "      <td>324.8398</td>\n",
       "      <td>0.000513</td>\n",
       "      <td>...</td>\n",
       "      <td>2</td>\n",
       "      <td>1</td>\n",
       "      <td>251.4580</td>\n",
       "      <td>1.297536</td>\n",
       "      <td>190.1436</td>\n",
       "      <td>0.000064</td>\n",
       "      <td>1</td>\n",
       "      <td>1</td>\n",
       "      <td>1</td>\n",
       "      <td>Normal</td>\n",
       "    </tr>\n",
       "    <tr>\n",
       "      <th>1</th>\n",
       "      <td>28/12/2015 7:50:01 AM</td>\n",
       "      <td>2.441469</td>\n",
       "      <td>541.4918</td>\n",
       "      <td>2</td>\n",
       "      <td>1</td>\n",
       "      <td>1</td>\n",
       "      <td>260.7344</td>\n",
       "      <td>8.412138</td>\n",
       "      <td>324.3015</td>\n",
       "      <td>0.000256</td>\n",
       "      <td>...</td>\n",
       "      <td>2</td>\n",
       "      <td>1</td>\n",
       "      <td>251.4580</td>\n",
       "      <td>1.297536</td>\n",
       "      <td>190.1436</td>\n",
       "      <td>0.000064</td>\n",
       "      <td>1</td>\n",
       "      <td>1</td>\n",
       "      <td>1</td>\n",
       "      <td>Normal</td>\n",
       "    </tr>\n",
       "    <tr>\n",
       "      <th>2</th>\n",
       "      <td>28/12/2015 7:50:02 AM</td>\n",
       "      <td>2.428338</td>\n",
       "      <td>541.2955</td>\n",
       "      <td>2</td>\n",
       "      <td>1</td>\n",
       "      <td>1</td>\n",
       "      <td>260.7344</td>\n",
       "      <td>8.414701</td>\n",
       "      <td>323.7888</td>\n",
       "      <td>0.000256</td>\n",
       "      <td>...</td>\n",
       "      <td>2</td>\n",
       "      <td>1</td>\n",
       "      <td>251.4580</td>\n",
       "      <td>1.297536</td>\n",
       "      <td>190.1436</td>\n",
       "      <td>0.000064</td>\n",
       "      <td>1</td>\n",
       "      <td>1</td>\n",
       "      <td>1</td>\n",
       "      <td>Normal</td>\n",
       "    </tr>\n",
       "    <tr>\n",
       "      <th>3</th>\n",
       "      <td>28/12/2015 7:50:03 AM</td>\n",
       "      <td>2.425776</td>\n",
       "      <td>542.5124</td>\n",
       "      <td>2</td>\n",
       "      <td>1</td>\n",
       "      <td>1</td>\n",
       "      <td>260.7344</td>\n",
       "      <td>8.420149</td>\n",
       "      <td>323.3530</td>\n",
       "      <td>0.000256</td>\n",
       "      <td>...</td>\n",
       "      <td>2</td>\n",
       "      <td>1</td>\n",
       "      <td>251.4580</td>\n",
       "      <td>1.441707</td>\n",
       "      <td>190.1436</td>\n",
       "      <td>0.000064</td>\n",
       "      <td>1</td>\n",
       "      <td>1</td>\n",
       "      <td>1</td>\n",
       "      <td>Normal</td>\n",
       "    </tr>\n",
       "    <tr>\n",
       "      <th>4</th>\n",
       "      <td>28/12/2015 7:50:04 AM</td>\n",
       "      <td>2.424174</td>\n",
       "      <td>542.7871</td>\n",
       "      <td>2</td>\n",
       "      <td>1</td>\n",
       "      <td>1</td>\n",
       "      <td>260.7344</td>\n",
       "      <td>8.423674</td>\n",
       "      <td>322.8916</td>\n",
       "      <td>0.000256</td>\n",
       "      <td>...</td>\n",
       "      <td>2</td>\n",
       "      <td>1</td>\n",
       "      <td>251.2817</td>\n",
       "      <td>1.441707</td>\n",
       "      <td>190.1436</td>\n",
       "      <td>0.000064</td>\n",
       "      <td>1</td>\n",
       "      <td>1</td>\n",
       "      <td>1</td>\n",
       "      <td>Normal</td>\n",
       "    </tr>\n",
       "  </tbody>\n",
       "</table>\n",
       "<p>5 rows × 53 columns</p>\n",
       "</div>"
      ],
      "text/plain": [
       "                Timestamp    FIT101    LIT101  MV101  P101  P102    AIT201  \\\n",
       "0   28/12/2015 7:50:00 AM  2.462287  541.3740      2     1     1  260.7344   \n",
       "1   28/12/2015 7:50:01 AM  2.441469  541.4918      2     1     1  260.7344   \n",
       "2   28/12/2015 7:50:02 AM  2.428338  541.2955      2     1     1  260.7344   \n",
       "3   28/12/2015 7:50:03 AM  2.425776  542.5124      2     1     1  260.7344   \n",
       "4   28/12/2015 7:50:04 AM  2.424174  542.7871      2     1     1  260.7344   \n",
       "\n",
       "     AIT202    AIT203    FIT201  ...  P501  P502    PIT501    PIT502  \\\n",
       "0  8.409895  324.8398  0.000513  ...     2     1  251.4580  1.297536   \n",
       "1  8.412138  324.3015  0.000256  ...     2     1  251.4580  1.297536   \n",
       "2  8.414701  323.7888  0.000256  ...     2     1  251.4580  1.297536   \n",
       "3  8.420149  323.3530  0.000256  ...     2     1  251.4580  1.441707   \n",
       "4  8.423674  322.8916  0.000256  ...     2     1  251.2817  1.441707   \n",
       "\n",
       "     PIT503    FIT601  P601  P602  P603  Normal/Attack  \n",
       "0  190.1436  0.000064     1     1     1         Normal  \n",
       "1  190.1436  0.000064     1     1     1         Normal  \n",
       "2  190.1436  0.000064     1     1     1         Normal  \n",
       "3  190.1436  0.000064     1     1     1         Normal  \n",
       "4  190.1436  0.000064     1     1     1         Normal  \n",
       "\n",
       "[5 rows x 53 columns]"
      ]
     },
     "execution_count": 25,
     "metadata": {},
     "output_type": "execute_result"
    }
   ],
   "source": [
    "df = pd.read_excel(\"./data/SWAT.xlsx\")\n",
    "df.head()"
   ]
  },
  {
   "cell_type": "code",
   "execution_count": 26,
   "id": "87317792",
   "metadata": {},
   "outputs": [],
   "source": [
    "df['Normal/Attack'].replace({'Normal':0, 'Attack':1}, inplace=True)\n",
    "df[\"anomaly\"] = df[\"Normal/Attack\"]\n",
    "\n",
    "anomaly = df.anomaly\n",
    "df.drop([\"Normal/Attack\"], axis=1, inplace=True)"
   ]
  },
  {
   "cell_type": "code",
   "execution_count": 27,
   "id": "62f0185b",
   "metadata": {},
   "outputs": [],
   "source": [
    "important_features = [\n",
    "    'LIT101', 'MV301', 'MV302', ' MV303', 'MV304', 'P302', 'AIT401', 'AIT504', 'FIT504', 'PIT502', 'P602', 'anomaly']"
   ]
  },
  {
   "cell_type": "code",
   "execution_count": 28,
   "id": "54358dd3",
   "metadata": {},
   "outputs": [
    {
     "data": {
      "text/html": [
       "<div>\n",
       "<style scoped>\n",
       "    .dataframe tbody tr th:only-of-type {\n",
       "        vertical-align: middle;\n",
       "    }\n",
       "\n",
       "    .dataframe tbody tr th {\n",
       "        vertical-align: top;\n",
       "    }\n",
       "\n",
       "    .dataframe thead th {\n",
       "        text-align: right;\n",
       "    }\n",
       "</style>\n",
       "<table border=\"1\" class=\"dataframe\">\n",
       "  <thead>\n",
       "    <tr style=\"text-align: right;\">\n",
       "      <th></th>\n",
       "      <th>LIT101</th>\n",
       "      <th>MV301</th>\n",
       "      <th>MV302</th>\n",
       "      <th>MV303</th>\n",
       "      <th>MV304</th>\n",
       "      <th>P302</th>\n",
       "      <th>AIT401</th>\n",
       "      <th>AIT504</th>\n",
       "      <th>FIT504</th>\n",
       "      <th>PIT502</th>\n",
       "      <th>P602</th>\n",
       "      <th>anomaly</th>\n",
       "    </tr>\n",
       "  </thead>\n",
       "  <tbody>\n",
       "    <tr>\n",
       "      <th>0</th>\n",
       "      <td>541.3740</td>\n",
       "      <td>1</td>\n",
       "      <td>1</td>\n",
       "      <td>1</td>\n",
       "      <td>1</td>\n",
       "      <td>1</td>\n",
       "      <td>148.808</td>\n",
       "      <td>12.03538</td>\n",
       "      <td>0.306761</td>\n",
       "      <td>1.297536</td>\n",
       "      <td>1</td>\n",
       "      <td>0</td>\n",
       "    </tr>\n",
       "    <tr>\n",
       "      <th>1</th>\n",
       "      <td>541.4918</td>\n",
       "      <td>1</td>\n",
       "      <td>1</td>\n",
       "      <td>1</td>\n",
       "      <td>1</td>\n",
       "      <td>1</td>\n",
       "      <td>148.808</td>\n",
       "      <td>12.03538</td>\n",
       "      <td>0.306761</td>\n",
       "      <td>1.297536</td>\n",
       "      <td>1</td>\n",
       "      <td>0</td>\n",
       "    </tr>\n",
       "    <tr>\n",
       "      <th>2</th>\n",
       "      <td>541.2955</td>\n",
       "      <td>1</td>\n",
       "      <td>1</td>\n",
       "      <td>1</td>\n",
       "      <td>1</td>\n",
       "      <td>1</td>\n",
       "      <td>148.808</td>\n",
       "      <td>12.03538</td>\n",
       "      <td>0.306761</td>\n",
       "      <td>1.297536</td>\n",
       "      <td>1</td>\n",
       "      <td>0</td>\n",
       "    </tr>\n",
       "    <tr>\n",
       "      <th>3</th>\n",
       "      <td>542.5124</td>\n",
       "      <td>1</td>\n",
       "      <td>1</td>\n",
       "      <td>1</td>\n",
       "      <td>1</td>\n",
       "      <td>1</td>\n",
       "      <td>148.808</td>\n",
       "      <td>12.03538</td>\n",
       "      <td>0.306761</td>\n",
       "      <td>1.441707</td>\n",
       "      <td>1</td>\n",
       "      <td>0</td>\n",
       "    </tr>\n",
       "    <tr>\n",
       "      <th>4</th>\n",
       "      <td>542.7871</td>\n",
       "      <td>1</td>\n",
       "      <td>1</td>\n",
       "      <td>1</td>\n",
       "      <td>1</td>\n",
       "      <td>1</td>\n",
       "      <td>148.808</td>\n",
       "      <td>12.03538</td>\n",
       "      <td>0.306761</td>\n",
       "      <td>1.441707</td>\n",
       "      <td>1</td>\n",
       "      <td>0</td>\n",
       "    </tr>\n",
       "  </tbody>\n",
       "</table>\n",
       "</div>"
      ],
      "text/plain": [
       "     LIT101  MV301  MV302   MV303  MV304  P302   AIT401    AIT504    FIT504  \\\n",
       "0  541.3740      1      1       1      1     1  148.808  12.03538  0.306761   \n",
       "1  541.4918      1      1       1      1     1  148.808  12.03538  0.306761   \n",
       "2  541.2955      1      1       1      1     1  148.808  12.03538  0.306761   \n",
       "3  542.5124      1      1       1      1     1  148.808  12.03538  0.306761   \n",
       "4  542.7871      1      1       1      1     1  148.808  12.03538  0.306761   \n",
       "\n",
       "     PIT502  P602  anomaly  \n",
       "0  1.297536     1        0  \n",
       "1  1.297536     1        0  \n",
       "2  1.297536     1        0  \n",
       "3  1.441707     1        0  \n",
       "4  1.441707     1        0  "
      ]
     },
     "execution_count": 28,
     "metadata": {},
     "output_type": "execute_result"
    }
   ],
   "source": [
    "df = df[important_features]\n",
    "df.head()"
   ]
  },
  {
   "cell_type": "code",
   "execution_count": 29,
   "id": "61ecdceb",
   "metadata": {},
   "outputs": [],
   "source": [
    "first_anomaly_index = anomaly[anomaly == 1].index[0]\n",
    "train_size = int(first_anomaly_index * 0.8)"
   ]
  },
  {
   "cell_type": "markdown",
   "id": "77086959",
   "metadata": {},
   "source": [
    "### Autoencoder prediction"
   ]
  },
  {
   "cell_type": "code",
   "execution_count": 30,
   "id": "b37cafb4-a1b6-416a-90af-7fda1bf5e8b3",
   "metadata": {},
   "outputs": [],
   "source": [
    "from sklearn.ensemble import IsolationForest\n",
    "from ipywidgets import IntProgress\n",
    "from IPython.display import display"
   ]
  },
  {
   "cell_type": "code",
   "execution_count": 31,
   "id": "40afe34c",
   "metadata": {},
   "outputs": [],
   "source": [
    "from utils.data import create_sequences\n",
    "from sklearn.preprocessing import StandardScaler"
   ]
  },
  {
   "cell_type": "code",
   "execution_count": 42,
   "id": "5134b6d9",
   "metadata": {},
   "outputs": [],
   "source": [
    "from utils.pipeline import Pipeline, Predictor\n",
    "\n",
    "class Config:\n",
    "    n_estimators = 100\n",
    "    contamination = 0.05\n",
    "    \n",
    "conf = Config\n",
    "conf.train_size = train_size\n",
    "\n",
    "class LSTM_AE_2ndPredictor:\n",
    "    def fit(self, df_train):\n",
    "        x_train = df_train[:train_size].drop([\"anomaly\"], axis=1)\n",
    "\n",
    "\n",
    "        self.model = IsolationForest(n_estimators=conf.n_estimators,\n",
    "                              contamination=conf.contamination, \n",
    "                              n_jobs=-1, random_state=seed_value)\n",
    "        \n",
    "        self.model.fit(x_train.values)\n",
    "        \n",
    "    def predict(self, dfs_test: Dict[str, pd.DataFrame]) -> Dict[str, pd.Series]:\n",
    "        predictions = {}\n",
    "        for file_name, df in dfs_test.items():\n",
    "            y_test = df.anomaly\n",
    "            df = df[important_features]\n",
    "            df.drop([\"anomaly\"], axis=1, inplace=True)\n",
    "            prediction_raw = self.model.predict(df.values)\n",
    "            prediction = pd.Series(prediction_raw, df.index).map({-1: 1, 1:0})\n",
    "            \n",
    "            pr = pd.Series(prediction_raw, df.index).map({-1: 1, 1:0})\n",
    "        \n",
    "            smoothed = pr.rolling(window = 10).mean().fillna(pr.iloc[0])\n",
    "\n",
    "            prediction = smoothed > 0.6\n",
    "            \n",
    "            predictions[file_name] = prediction\n",
    "            \n",
    "        return predictions"
   ]
  },
  {
   "cell_type": "code",
   "execution_count": 43,
   "id": "e4d37a77-d970-414f-8df1-f48bb72b64ea",
   "metadata": {},
   "outputs": [
    {
     "data": {
      "text/plain": [
       "(10090, 12)"
      ]
     },
     "execution_count": 43,
     "metadata": {},
     "output_type": "execute_result"
    }
   ],
   "source": [
    "df[:train_size].shape"
   ]
  },
  {
   "cell_type": "code",
   "execution_count": 44,
   "id": "d368a847-56cd-4509-b468-963c30722307",
   "metadata": {},
   "outputs": [
    {
     "data": {
      "text/plain": [
       "(8573, 12)"
      ]
     },
     "execution_count": 44,
     "metadata": {},
     "output_type": "execute_result"
    }
   ],
   "source": [
    "df_by_names['swat'].shape"
   ]
  },
  {
   "cell_type": "code",
   "execution_count": 45,
   "id": "355fafb4",
   "metadata": {},
   "outputs": [
    {
     "name": "stdout",
     "output_type": "stream",
     "text": [
      "CPU times: total: 625 ms\n",
      "Wall time: 621 ms\n"
     ]
    }
   ],
   "source": [
    "%%time\n",
    "predictor = LSTM_AE_2ndPredictor()\n",
    "predictor.fit(df[:train_size])"
   ]
  },
  {
   "cell_type": "code",
   "execution_count": 46,
   "id": "9b67284f",
   "metadata": {},
   "outputs": [
    {
     "name": "stdout",
     "output_type": "stream",
     "text": [
      "CPU times: total: 281 ms\n",
      "Wall time: 314 ms\n"
     ]
    }
   ],
   "source": [
    "%%time\n",
    "df_by_names = {\"swat\": df[train_size:]}\n",
    "y_test_by_names = {name: df.anomaly for name, df in df_by_names.items()}\n",
    "predictions_by_names = predictor.predict(df_by_names)"
   ]
  },
  {
   "cell_type": "code",
   "execution_count": 47,
   "id": "77d08925",
   "metadata": {},
   "outputs": [
    {
     "data": {
      "image/png": "[encoded data removed]",
      "text/plain": [
       "<Figure size 432x288 with 1 Axes>"
      ]
     },
     "metadata": {
      "needs_background": "light"
     },
     "output_type": "display_data"
    }
   ],
   "source": [
    "from utils.metrics import f1_score, far, mar\n",
    "metrics= {}\n",
    "predictions = []\n",
    "\n",
    "draw = 1\n",
    "\n",
    "all_prediction = {\"swat\": []}\n",
    "all_test = {\"swat\": []}\n",
    "\n",
    "for file_name, prediction in predictions_by_names.items():\n",
    "    y_test = y_test_by_names[file_name]\n",
    "    f1 = f1_score(y_test, prediction)\n",
    "    far_score = far(y_test, prediction)\n",
    "    mar_score = mar(y_test, prediction)\n",
    "    all_prediction[\"swat\"].append(prediction)\n",
    "    all_test[\"swat\"].append(prediction)\n",
    "            \n",
    "    metrics[file_name] = (f1, far_score, mar_score)\n",
    "    \n",
    "    if draw:\n",
    "        title = file_name + \" f1 = {:3.2f} far = {:3.2f} mar = {:3.2f}\".format(f1, far_score, mar_score)\n",
    "        plt.title(title)\n",
    "        plt.plot(y_test)    \n",
    "        plt.plot(prediction)\n",
    "        plt.legend([\"y_test\", \"predicted\"])\n",
    "        plt.show()"
   ]
  },
  {
   "cell_type": "code",
   "execution_count": 48,
   "id": "6b6af5af",
   "metadata": {},
   "outputs": [
    {
     "data": {
      "text/markdown": [
       "metric | swat\n",
       "--- | ---\n",
       "F1 |0.13\n",
       "FAR |0.05\n",
       "MAR |0.91"
      ],
      "text/plain": [
       "<IPython.core.display.Markdown object>"
      ]
     },
     "metadata": {},
     "output_type": "display_data"
    }
   ],
   "source": [
    "from utils.data import show_score_table\n",
    "\n",
    "show_score_table(metrics)"
   ]
  },
  {
   "cell_type": "markdown",
   "id": "32f7a2a3",
   "metadata": {},
   "source": [
    "### SKAB"
   ]
  },
  {
   "cell_type": "code",
   "execution_count": 52,
   "id": "35e159b9-a4c4-4aab-a72a-bed832781b6e",
   "metadata": {},
   "outputs": [],
   "source": [
    "from utils.pipeline import Pipeline, Predictor\n",
    "from tensorflow import keras\n",
    "\n",
    "from utils.pipeline import Pipeline, Predictor\n",
    "class Config:\n",
    "    contamination = 0.01\n",
    "    \n",
    "conf = Config\n",
    "\n",
    "class IForestSKABPredictor:\n",
    "    def fit(self, df_train):\n",
    "        x_train = df_train[:train_size].drop([\"anomaly\"], axis=1)\n",
    "        self.model = IsolationForest(contamination=conf.contamination, \n",
    "                              n_jobs=-1, random_state=seed_value)\n",
    "        \n",
    "        self.model.fit(x_train.values)\n",
    "        \n",
    "    def predict(self, dfs_test: Dict[str, pd.DataFrame]) -> Dict[str, pd.Series]:\n",
    "        predictions = {}\n",
    "        for file_name, df in dfs_test.items():\n",
    "            y_test = df.anomaly\n",
    "            df = df[important_features]\n",
    "            df.drop([\"anomaly\"], axis=1, inplace=True)\n",
    "            \n",
    "            prediction_raw = self.model.predict(df.values)\n",
    "            prediction = pd.Series(self.model.predict(df)*-1, \n",
    "                                index=df.index).rolling(3).median().fillna(0).replace(-1,0)\n",
    "            \n",
    "            predictions[file_name] = prediction\n",
    "            \n",
    "        return predictions\n",
    "    \n",
    "    "
   ]
  },
  {
   "cell_type": "code",
   "execution_count": 53,
   "id": "4869f5f6",
   "metadata": {},
   "outputs": [
    {
     "name": "stdout",
     "output_type": "stream",
     "text": [
      "CPU times: total: 625 ms\n",
      "Wall time: 604 ms\n"
     ]
    }
   ],
   "source": [
    "%%time\n",
    "skab_predictor = IForestSKABPredictor()\n",
    "skab_predictor.fit(df[:train_size])"
   ]
  },
  {
   "cell_type": "code",
   "execution_count": 54,
   "id": "0ae186f3",
   "metadata": {},
   "outputs": [
    {
     "name": "stdout",
     "output_type": "stream",
     "text": [
      "CPU times: total: 578 ms\n",
      "Wall time: 588 ms\n"
     ]
    }
   ],
   "source": [
    "%%time\n",
    "predictions_by_names = skab_predictor.predict(df_by_names)"
   ]
  },
  {
   "cell_type": "code",
   "execution_count": 55,
   "id": "67123a9f",
   "metadata": {},
   "outputs": [
    {
     "data": {
      "image/png": "[encoded data removed]",
      "text/plain": [
       "<Figure size 432x288 with 1 Axes>"
      ]
     },
     "metadata": {
      "needs_background": "light"
     },
     "output_type": "display_data"
    }
   ],
   "source": [
    "from utils.metrics import f1_score, far, mar\n",
    "metrics= {}\n",
    "predictions = []\n",
    "\n",
    "draw = 1\n",
    "\n",
    "all_prediction = {\"swat\": []}\n",
    "all_test = {\"swat\": []}\n",
    "\n",
    "for file_name, prediction in predictions_by_names.items():\n",
    "    y_test = y_test_by_names[file_name]\n",
    "    f1 = f1_score(y_test, prediction)\n",
    "    far_score = far(y_test, prediction)\n",
    "    mar_score = mar(y_test, prediction)\n",
    "    all_prediction[\"swat\"].append(prediction)\n",
    "    all_test[\"swat\"].append(prediction)\n",
    "            \n",
    "    metrics[file_name] = (f1, far_score, mar_score)\n",
    "    \n",
    "    if draw:\n",
    "        title = file_name + \" f1 = {:3.2f} far = {:3.2f} mar = {:3.2f}\".format(f1, far_score, mar_score)\n",
    "        plt.title(title)\n",
    "        plt.plot(y_test)    \n",
    "        plt.plot(prediction)\n",
    "        plt.legend([\"y_test\", \"predicted\"])\n",
    "        plt.show()"
   ]
  },
  {
   "cell_type": "code",
   "execution_count": 58,
   "id": "12c562fd",
   "metadata": {},
   "outputs": [
    {
     "data": {
      "text/markdown": [
       "metric | swat\n",
       "--- | ---\n",
       "F1 |0.4\n",
       "FAR |0.26\n",
       "MAR |0.42"
      ],
      "text/plain": [
       "<IPython.core.display.Markdown object>"
      ]
     },
     "metadata": {},
     "output_type": "display_data"
    }
   ],
   "source": [
    "from utils.data import show_score_table\n",
    "\n",
    "show_score_table(metrics)"
   ]
  }
 ],
 "metadata": {
  "kernelspec": {
   "display_name": "Python 3 (ipykernel)",
   "language": "python",
   "name": "python3"
  },
  "language_info": {
   "codemirror_mode": {
    "name": "ipython",
    "version": 3
   },
   "file_extension": ".py",
   "mimetype": "text/x-python",
   "name": "python",
   "nbconvert_exporter": "python",
   "pygments_lexer": "ipython3",
   "version": "3.10.4"
  }
 },
 "nbformat": 4,
 "nbformat_minor": 5
}
