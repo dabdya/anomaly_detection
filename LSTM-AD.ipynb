{
 "cells": [
  {
   "cell_type": "code",
   "execution_count": 13,
   "id": "f7b01832-6481-44ea-ac0e-6b5d9a5867c4",
   "metadata": {},
   "outputs": [],
   "source": [
    "import matplotlib.pyplot as plt\n",
    "import pandas as pd\n",
    "import numpy as np\n",
    "\n",
    "import warnings \n",
    "warnings.filterwarnings('ignore')\n",
    "\n",
    "from sklearn.preprocessing import StandardScaler\n",
    "from utils.metrics import mar, far, f1_score\n",
    "\n",
    "from keras.models import Sequential\n",
    "from keras.layers import TimeDistributed, Dense, LSTM, RepeatVector"
   ]
  },
  {
   "cell_type": "code",
   "execution_count": 14,
   "id": "08eaf896-9f74-4b3f-8f79-d27d753fa85d",
   "metadata": {},
   "outputs": [
    {
     "name": "stdout",
     "output_type": "stream",
     "text": [
      "<class 'pandas.core.frame.DataFrame'>\n",
      "DatetimeIndex: 1147 entries, 2020-03-09 10:14:33 to 2020-03-09 10:34:32\n",
      "Data columns (total 10 columns):\n",
      " #   Column               Non-Null Count  Dtype  \n",
      "---  ------               --------------  -----  \n",
      " 0   Accelerometer1RMS    1147 non-null   float64\n",
      " 1   Accelerometer2RMS    1147 non-null   float64\n",
      " 2   Current              1147 non-null   float64\n",
      " 3   Pressure             1147 non-null   float64\n",
      " 4   Temperature          1147 non-null   float64\n",
      " 5   Thermocouple         1147 non-null   float64\n",
      " 6   Voltage              1147 non-null   float64\n",
      " 7   Volume Flow RateRMS  1147 non-null   float64\n",
      " 8   anomaly              1147 non-null   float64\n",
      " 9   changepoint          1147 non-null   float64\n",
      "dtypes: float64(10)\n",
      "memory usage: 98.6 KB\n"
     ]
    }
   ],
   "source": [
    "df = pd.read_csv(\"./data/valve1/0.csv\", sep=\";\", parse_dates=True, index_col=\"datetime\")\n",
    "\n",
    "df.sort_index(inplace=True)\n",
    "df.info()"
   ]
  },
  {
   "cell_type": "code",
   "execution_count": 15,
   "id": "f1295208-6fb4-4607-9920-0f3a0519b731",
   "metadata": {},
   "outputs": [],
   "source": [
    "from utils.data import load_df"
   ]
  },
  {
   "cell_type": "code",
   "execution_count": 16,
   "id": "6f2b8464-4ce5-44aa-8389-f8be540763e3",
   "metadata": {},
   "outputs": [],
   "source": [
    "train_size = 400"
   ]
  },
  {
   "cell_type": "code",
   "execution_count": 17,
   "id": "6f0ec9a9-d194-44df-be24-ce18086b7f2c",
   "metadata": {},
   "outputs": [],
   "source": [
    "SS = StandardScaler()\n",
    "x_train = np.array(SS.fit_transform(df[:train_size].drop(['anomaly','changepoint'], axis=1)))"
   ]
  },
  {
   "cell_type": "code",
   "execution_count": 18,
   "id": "6b1d31e9-5326-4f3d-b818-39f887103019",
   "metadata": {},
   "outputs": [
    {
     "name": "stdout",
     "output_type": "stream",
     "text": [
      "Training input shape:  (351, 50, 8)\n"
     ]
    }
   ],
   "source": [
    "TIME_STEPS = 50\n",
    "\n",
    "# Generated training sequences for use in the model.\n",
    "def create_sequences(values, time_steps=TIME_STEPS):\n",
    "    output = []\n",
    "    for i in range(len(values) - time_steps + 1):\n",
    "        output.append(values[i : (i + time_steps)])\n",
    "    return np.stack(output)\n",
    "\n",
    "x_train = create_sequences(x_train)\n",
    "print(\"Training input shape: \", x_train.shape)"
   ]
  },
  {
   "cell_type": "code",
   "execution_count": 19,
   "id": "63dfc524-9b16-41d4-9e58-f177a3766a17",
   "metadata": {},
   "outputs": [],
   "source": [
    "n_features = x_train.shape[-1]\n",
    "window_shape = (TIME_STEPS, n_features)\n",
    "def get_model():   \n",
    "    encoder_input = Input(shape=window_shape)\n",
    "    encoder_LSTM = LSTM(128, return_state = True)\n",
    "    encoder_outputs, encoder_h, encoder_c = encoder_LSTM(encoder_input)\n",
    "    encoder_states = [encoder_h, encoder_c]\n",
    "    \n",
    "    decoder_input = Input(shape = window_shape)\n",
    "    decoder_LSTM = LSTM(128, return_sequence = True,\n",
    "                        return_state = True)\n",
    "    decoder_out, _, _ = decoder_LSTM(decoder_input, initial_state = encoder_states)#h & c are not returned\n",
    "    decoder_dense = TimeDistributed(Dense(n_features, activation = \"relu\"))"
   ]
  },
  {
   "cell_type": "code",
   "execution_count": null,
   "id": "3431d18f-7537-4581-a0b1-c40e7ca86998",
   "metadata": {},
   "outputs": [],
   "source": []
  }
 ],
 "metadata": {
  "kernelspec": {
   "display_name": "Python 3 (ipykernel)",
   "language": "python",
   "name": "python3"
  },
  "language_info": {
   "codemirror_mode": {
    "name": "ipython",
    "version": 3
   },
   "file_extension": ".py",
   "mimetype": "text/x-python",
   "name": "python",
   "nbconvert_exporter": "python",
   "pygments_lexer": "ipython3",
   "version": "3.10.4"
  }
 },
 "nbformat": 4,
 "nbformat_minor": 5
}
